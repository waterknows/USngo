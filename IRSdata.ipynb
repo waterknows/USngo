{
 "cells": [
  {
   "cell_type": "code",
   "execution_count": 1,
   "metadata": {
    "collapsed": true
   },
   "outputs": [],
   "source": [
    "import pandas as pd"
   ]
  },
  {
   "cell_type": "code",
   "execution_count": 2,
   "metadata": {
    "collapsed": true
   },
   "outputs": [],
   "source": [
    "df1=pd.read_csv('eo1.csv')"
   ]
  },
  {
   "cell_type": "code",
   "execution_count": 3,
   "metadata": {
    "collapsed": true
   },
   "outputs": [],
   "source": [
    "df2=pd.read_csv('eo2.csv')"
   ]
  },
  {
   "cell_type": "code",
   "execution_count": 4,
   "metadata": {
    "collapsed": true
   },
   "outputs": [],
   "source": [
    "df3=pd.read_csv('eo3.csv')"
   ]
  },
  {
   "cell_type": "code",
   "execution_count": 7,
   "metadata": {
    "collapsed": true
   },
   "outputs": [],
   "source": [
    "dfz=pd.read_csv('zipmsa.csv')"
   ]
  },
  {
   "cell_type": "code",
   "execution_count": 5,
   "metadata": {
    "collapsed": false
   },
   "outputs": [
    {
     "data": {
      "text/html": [
       "<div>\n",
       "<table border=\"1\" class=\"dataframe\">\n",
       "  <thead>\n",
       "    <tr style=\"text-align: right;\">\n",
       "      <th></th>\n",
       "      <th>EIN</th>\n",
       "      <th>NAME</th>\n",
       "      <th>ICO</th>\n",
       "      <th>STREET</th>\n",
       "      <th>CITY</th>\n",
       "      <th>STATE</th>\n",
       "      <th>ZIP</th>\n",
       "      <th>GROUP</th>\n",
       "      <th>SUBSECTION</th>\n",
       "      <th>AFFILIATION</th>\n",
       "      <th>...</th>\n",
       "      <th>ASSET_CD</th>\n",
       "      <th>INCOME_CD</th>\n",
       "      <th>FILING_REQ_CD</th>\n",
       "      <th>PF_FILING_REQ_CD</th>\n",
       "      <th>ACCT_PD</th>\n",
       "      <th>ASSET_AMT</th>\n",
       "      <th>INCOME_AMT</th>\n",
       "      <th>REVENUE_AMT</th>\n",
       "      <th>NTEE_CD</th>\n",
       "      <th>SORT_NAME</th>\n",
       "    </tr>\n",
       "  </thead>\n",
       "  <tbody>\n",
       "    <tr>\n",
       "      <th>0</th>\n",
       "      <td>19818</td>\n",
       "      <td>PALMER SECOND BAPTIST CHURCH</td>\n",
       "      <td>NaN</td>\n",
       "      <td>1050 THORNDIKE ST</td>\n",
       "      <td>PALMER</td>\n",
       "      <td>MA</td>\n",
       "      <td>01069-1507</td>\n",
       "      <td>3125</td>\n",
       "      <td>3</td>\n",
       "      <td>9</td>\n",
       "      <td>...</td>\n",
       "      <td>0</td>\n",
       "      <td>0</td>\n",
       "      <td>6</td>\n",
       "      <td>0</td>\n",
       "      <td>12</td>\n",
       "      <td>NaN</td>\n",
       "      <td>NaN</td>\n",
       "      <td>NaN</td>\n",
       "      <td>NaN</td>\n",
       "      <td>3514</td>\n",
       "    </tr>\n",
       "    <tr>\n",
       "      <th>1</th>\n",
       "      <td>29215</td>\n",
       "      <td>ST GEORGE CATHEDRAL</td>\n",
       "      <td>NaN</td>\n",
       "      <td>523 E BROADWAY</td>\n",
       "      <td>SOUTH BOSTON</td>\n",
       "      <td>MA</td>\n",
       "      <td>02127-4415</td>\n",
       "      <td>2365</td>\n",
       "      <td>3</td>\n",
       "      <td>9</td>\n",
       "      <td>...</td>\n",
       "      <td>0</td>\n",
       "      <td>0</td>\n",
       "      <td>6</td>\n",
       "      <td>0</td>\n",
       "      <td>12</td>\n",
       "      <td>NaN</td>\n",
       "      <td>NaN</td>\n",
       "      <td>NaN</td>\n",
       "      <td>NaN</td>\n",
       "      <td>NaN</td>\n",
       "    </tr>\n",
       "    <tr>\n",
       "      <th>2</th>\n",
       "      <td>587764</td>\n",
       "      <td>IGLESIA BETHESDA INC</td>\n",
       "      <td>NaN</td>\n",
       "      <td>157 ANDOVER ST</td>\n",
       "      <td>LOWELL</td>\n",
       "      <td>MA</td>\n",
       "      <td>01852-2348</td>\n",
       "      <td>0</td>\n",
       "      <td>3</td>\n",
       "      <td>3</td>\n",
       "      <td>...</td>\n",
       "      <td>0</td>\n",
       "      <td>0</td>\n",
       "      <td>6</td>\n",
       "      <td>0</td>\n",
       "      <td>12</td>\n",
       "      <td>NaN</td>\n",
       "      <td>NaN</td>\n",
       "      <td>NaN</td>\n",
       "      <td>X21</td>\n",
       "      <td>NaN</td>\n",
       "    </tr>\n",
       "    <tr>\n",
       "      <th>3</th>\n",
       "      <td>635913</td>\n",
       "      <td>MINISTERIO APOSTOLICO JESUCRISTO ES EL SENOR INC</td>\n",
       "      <td>NaN</td>\n",
       "      <td>454 ESSEX ST</td>\n",
       "      <td>LAWRENCE</td>\n",
       "      <td>MA</td>\n",
       "      <td>01840-1242</td>\n",
       "      <td>0</td>\n",
       "      <td>3</td>\n",
       "      <td>3</td>\n",
       "      <td>...</td>\n",
       "      <td>0</td>\n",
       "      <td>0</td>\n",
       "      <td>6</td>\n",
       "      <td>0</td>\n",
       "      <td>12</td>\n",
       "      <td>NaN</td>\n",
       "      <td>NaN</td>\n",
       "      <td>NaN</td>\n",
       "      <td>X21</td>\n",
       "      <td>NaN</td>\n",
       "    </tr>\n",
       "    <tr>\n",
       "      <th>4</th>\n",
       "      <td>765634</td>\n",
       "      <td>NEW HOPE CONGREGATIONAL CHURCH</td>\n",
       "      <td>NaN</td>\n",
       "      <td>757 SHAWMUT AVE APT 709</td>\n",
       "      <td>BOSTON</td>\n",
       "      <td>MA</td>\n",
       "      <td>02119-2048</td>\n",
       "      <td>0</td>\n",
       "      <td>3</td>\n",
       "      <td>3</td>\n",
       "      <td>...</td>\n",
       "      <td>0</td>\n",
       "      <td>0</td>\n",
       "      <td>6</td>\n",
       "      <td>0</td>\n",
       "      <td>12</td>\n",
       "      <td>NaN</td>\n",
       "      <td>NaN</td>\n",
       "      <td>NaN</td>\n",
       "      <td>X20</td>\n",
       "      <td>NaN</td>\n",
       "    </tr>\n",
       "    <tr>\n",
       "      <th>5</th>\n",
       "      <td>841363</td>\n",
       "      <td>AGAPE HOUSE OF PRAYER</td>\n",
       "      <td>NaN</td>\n",
       "      <td>39 GOODALE RD STE 2</td>\n",
       "      <td>MATTAPAN</td>\n",
       "      <td>MA</td>\n",
       "      <td>02126-1527</td>\n",
       "      <td>0</td>\n",
       "      <td>3</td>\n",
       "      <td>3</td>\n",
       "      <td>...</td>\n",
       "      <td>0</td>\n",
       "      <td>0</td>\n",
       "      <td>6</td>\n",
       "      <td>0</td>\n",
       "      <td>12</td>\n",
       "      <td>NaN</td>\n",
       "      <td>NaN</td>\n",
       "      <td>NaN</td>\n",
       "      <td>X20</td>\n",
       "      <td>NaN</td>\n",
       "    </tr>\n",
       "    <tr>\n",
       "      <th>6</th>\n",
       "      <td>852649</td>\n",
       "      <td>BETHANY PRESBYTERIAN CHURCH</td>\n",
       "      <td>NaN</td>\n",
       "      <td>32 HARVARD ST</td>\n",
       "      <td>BROOKLINE</td>\n",
       "      <td>MA</td>\n",
       "      <td>02445-7994</td>\n",
       "      <td>0</td>\n",
       "      <td>3</td>\n",
       "      <td>3</td>\n",
       "      <td>...</td>\n",
       "      <td>0</td>\n",
       "      <td>0</td>\n",
       "      <td>6</td>\n",
       "      <td>0</td>\n",
       "      <td>12</td>\n",
       "      <td>NaN</td>\n",
       "      <td>NaN</td>\n",
       "      <td>NaN</td>\n",
       "      <td>X20</td>\n",
       "      <td>NaN</td>\n",
       "    </tr>\n",
       "    <tr>\n",
       "      <th>7</th>\n",
       "      <td>1028397</td>\n",
       "      <td>UNITY IN THE CITY</td>\n",
       "      <td>NaN</td>\n",
       "      <td>955 MASSACHUSETTS AVE STE 117</td>\n",
       "      <td>CAMBRIDGE</td>\n",
       "      <td>MA</td>\n",
       "      <td>02139-3180</td>\n",
       "      <td>2062</td>\n",
       "      <td>3</td>\n",
       "      <td>9</td>\n",
       "      <td>...</td>\n",
       "      <td>0</td>\n",
       "      <td>0</td>\n",
       "      <td>1</td>\n",
       "      <td>0</td>\n",
       "      <td>12</td>\n",
       "      <td>NaN</td>\n",
       "      <td>NaN</td>\n",
       "      <td>NaN</td>\n",
       "      <td>NaN</td>\n",
       "      <td>NaN</td>\n",
       "    </tr>\n",
       "    <tr>\n",
       "      <th>8</th>\n",
       "      <td>1037180</td>\n",
       "      <td>MIDDLESEX BARBARIANS R F C INC</td>\n",
       "      <td>NaN</td>\n",
       "      <td>37 BOW ST</td>\n",
       "      <td>WOBURN</td>\n",
       "      <td>MA</td>\n",
       "      <td>01801-3636</td>\n",
       "      <td>0</td>\n",
       "      <td>3</td>\n",
       "      <td>3</td>\n",
       "      <td>...</td>\n",
       "      <td>0</td>\n",
       "      <td>0</td>\n",
       "      <td>2</td>\n",
       "      <td>0</td>\n",
       "      <td>1</td>\n",
       "      <td>NaN</td>\n",
       "      <td>NaN</td>\n",
       "      <td>NaN</td>\n",
       "      <td>N60</td>\n",
       "      <td>NaN</td>\n",
       "    </tr>\n",
       "    <tr>\n",
       "      <th>9</th>\n",
       "      <td>1085119</td>\n",
       "      <td>MOLINA INSTITUTE FOR PHOTON PHYSICS RESEARCH INC</td>\n",
       "      <td>% ALBERTO MOLINA MARTINEZ</td>\n",
       "      <td>20 WARE ST APT 24</td>\n",
       "      <td>CAMBRIDGE</td>\n",
       "      <td>MA</td>\n",
       "      <td>02138-4016</td>\n",
       "      <td>0</td>\n",
       "      <td>3</td>\n",
       "      <td>3</td>\n",
       "      <td>...</td>\n",
       "      <td>0</td>\n",
       "      <td>0</td>\n",
       "      <td>1</td>\n",
       "      <td>0</td>\n",
       "      <td>6</td>\n",
       "      <td>NaN</td>\n",
       "      <td>NaN</td>\n",
       "      <td>NaN</td>\n",
       "      <td>Z99</td>\n",
       "      <td>NaN</td>\n",
       "    </tr>\n",
       "  </tbody>\n",
       "</table>\n",
       "<p>10 rows × 28 columns</p>\n",
       "</div>"
      ],
      "text/plain": [
       "       EIN                                              NAME  \\\n",
       "0    19818                      PALMER SECOND BAPTIST CHURCH   \n",
       "1    29215                               ST GEORGE CATHEDRAL   \n",
       "2   587764                              IGLESIA BETHESDA INC   \n",
       "3   635913  MINISTERIO APOSTOLICO JESUCRISTO ES EL SENOR INC   \n",
       "4   765634                    NEW HOPE CONGREGATIONAL CHURCH   \n",
       "5   841363                             AGAPE HOUSE OF PRAYER   \n",
       "6   852649                       BETHANY PRESBYTERIAN CHURCH   \n",
       "7  1028397                                 UNITY IN THE CITY   \n",
       "8  1037180                    MIDDLESEX BARBARIANS R F C INC   \n",
       "9  1085119  MOLINA INSTITUTE FOR PHOTON PHYSICS RESEARCH INC   \n",
       "\n",
       "                         ICO                         STREET          CITY  \\\n",
       "0                        NaN              1050 THORNDIKE ST        PALMER   \n",
       "1                        NaN                 523 E BROADWAY  SOUTH BOSTON   \n",
       "2                        NaN                 157 ANDOVER ST        LOWELL   \n",
       "3                        NaN                   454 ESSEX ST      LAWRENCE   \n",
       "4                        NaN        757 SHAWMUT AVE APT 709        BOSTON   \n",
       "5                        NaN            39 GOODALE RD STE 2      MATTAPAN   \n",
       "6                        NaN                  32 HARVARD ST     BROOKLINE   \n",
       "7                        NaN  955 MASSACHUSETTS AVE STE 117     CAMBRIDGE   \n",
       "8                        NaN                      37 BOW ST        WOBURN   \n",
       "9  % ALBERTO MOLINA MARTINEZ              20 WARE ST APT 24     CAMBRIDGE   \n",
       "\n",
       "  STATE         ZIP  GROUP  SUBSECTION  AFFILIATION    ...      ASSET_CD  \\\n",
       "0    MA  01069-1507   3125           3            9    ...             0   \n",
       "1    MA  02127-4415   2365           3            9    ...             0   \n",
       "2    MA  01852-2348      0           3            3    ...             0   \n",
       "3    MA  01840-1242      0           3            3    ...             0   \n",
       "4    MA  02119-2048      0           3            3    ...             0   \n",
       "5    MA  02126-1527      0           3            3    ...             0   \n",
       "6    MA  02445-7994      0           3            3    ...             0   \n",
       "7    MA  02139-3180   2062           3            9    ...             0   \n",
       "8    MA  01801-3636      0           3            3    ...             0   \n",
       "9    MA  02138-4016      0           3            3    ...             0   \n",
       "\n",
       "   INCOME_CD  FILING_REQ_CD  PF_FILING_REQ_CD  ACCT_PD  ASSET_AMT  INCOME_AMT  \\\n",
       "0          0              6                 0       12        NaN         NaN   \n",
       "1          0              6                 0       12        NaN         NaN   \n",
       "2          0              6                 0       12        NaN         NaN   \n",
       "3          0              6                 0       12        NaN         NaN   \n",
       "4          0              6                 0       12        NaN         NaN   \n",
       "5          0              6                 0       12        NaN         NaN   \n",
       "6          0              6                 0       12        NaN         NaN   \n",
       "7          0              1                 0       12        NaN         NaN   \n",
       "8          0              2                 0        1        NaN         NaN   \n",
       "9          0              1                 0        6        NaN         NaN   \n",
       "\n",
       "   REVENUE_AMT  NTEE_CD  SORT_NAME  \n",
       "0          NaN      NaN       3514  \n",
       "1          NaN      NaN        NaN  \n",
       "2          NaN      X21        NaN  \n",
       "3          NaN      X21        NaN  \n",
       "4          NaN      X20        NaN  \n",
       "5          NaN      X20        NaN  \n",
       "6          NaN      X20        NaN  \n",
       "7          NaN      NaN        NaN  \n",
       "8          NaN      N60        NaN  \n",
       "9          NaN      Z99        NaN  \n",
       "\n",
       "[10 rows x 28 columns]"
      ]
     },
     "execution_count": 5,
     "metadata": {},
     "output_type": "execute_result"
    }
   ],
   "source": [
    "df1[:10]"
   ]
  },
  {
   "cell_type": "code",
   "execution_count": 6,
   "metadata": {
    "collapsed": true
   },
   "outputs": [],
   "source": [
    "cities=['New York','Washington','Chicago','San Francisco','Boston','Seattle','Houston','Minneapolis','Philadelphia','Dallas','San Jose']"
   ]
  },
  {
   "cell_type": "code",
   "execution_count": 12,
   "metadata": {
    "collapsed": false
   },
   "outputs": [],
   "source": [
    "df4=df1.append(df2, ignore_index=True).append(df3, ignore_index=True)"
   ]
  },
  {
   "cell_type": "code",
   "execution_count": 23,
   "metadata": {
    "collapsed": false
   },
   "outputs": [],
   "source": [
    "df4['ZIP']=pd.DataFrame(list(df4['ZIP'].str.split('-')))"
   ]
  },
  {
   "cell_type": "code",
   "execution_count": 21,
   "metadata": {
    "collapsed": false
   },
   "outputs": [],
   "source": [
    "dfz['ZIP CODE']=pd.Series(dfz['ZIP CODE']).astype(str).str.zfill(5)"
   ]
  },
  {
   "cell_type": "code",
   "execution_count": 22,
   "metadata": {
    "collapsed": false
   },
   "outputs": [
    {
     "data": {
      "text/html": [
       "<div>\n",
       "<table border=\"1\" class=\"dataframe\">\n",
       "  <thead>\n",
       "    <tr style=\"text-align: right;\">\n",
       "      <th></th>\n",
       "      <th>ZIP CODE</th>\n",
       "      <th>STATE</th>\n",
       "      <th>MSA1</th>\n",
       "      <th>MSA2</th>\n",
       "      <th>MSA3</th>\n",
       "    </tr>\n",
       "  </thead>\n",
       "  <tbody>\n",
       "    <tr>\n",
       "      <th>0</th>\n",
       "      <td>00210</td>\n",
       "      <td>NH</td>\n",
       "      <td>Boston</td>\n",
       "      <td>Cambridge</td>\n",
       "      <td>Quincy</td>\n",
       "    </tr>\n",
       "    <tr>\n",
       "      <th>1</th>\n",
       "      <td>00211</td>\n",
       "      <td>NH</td>\n",
       "      <td>Boston</td>\n",
       "      <td>Cambridge</td>\n",
       "      <td>Quincy</td>\n",
       "    </tr>\n",
       "    <tr>\n",
       "      <th>2</th>\n",
       "      <td>00212</td>\n",
       "      <td>NH</td>\n",
       "      <td>Boston</td>\n",
       "      <td>Cambridge</td>\n",
       "      <td>Quincy</td>\n",
       "    </tr>\n",
       "    <tr>\n",
       "      <th>3</th>\n",
       "      <td>00213</td>\n",
       "      <td>NH</td>\n",
       "      <td>Boston</td>\n",
       "      <td>Cambridge</td>\n",
       "      <td>Quincy</td>\n",
       "    </tr>\n",
       "    <tr>\n",
       "      <th>4</th>\n",
       "      <td>00214</td>\n",
       "      <td>NH</td>\n",
       "      <td>Boston</td>\n",
       "      <td>Cambridge</td>\n",
       "      <td>Quincy</td>\n",
       "    </tr>\n",
       "  </tbody>\n",
       "</table>\n",
       "</div>"
      ],
      "text/plain": [
       "  ZIP CODE STATE    MSA1       MSA2    MSA3\n",
       "0    00210    NH  Boston  Cambridge  Quincy\n",
       "1    00211    NH  Boston  Cambridge  Quincy\n",
       "2    00212    NH  Boston  Cambridge  Quincy\n",
       "3    00213    NH  Boston  Cambridge  Quincy\n",
       "4    00214    NH  Boston  Cambridge  Quincy"
      ]
     },
     "execution_count": 22,
     "metadata": {},
     "output_type": "execute_result"
    }
   ],
   "source": [
    "dfz[:5]"
   ]
  },
  {
   "cell_type": "code",
   "execution_count": 36,
   "metadata": {
    "collapsed": false
   },
   "outputs": [],
   "source": [
    "df=df4.merge(dfz, how='left', left_on=['ZIP','STATE'],right_on=['ZIP CODE','STATE'])"
   ]
  },
  {
   "cell_type": "code",
   "execution_count": 37,
   "metadata": {
    "collapsed": false
   },
   "outputs": [
    {
     "data": {
      "text/plain": [
       "1571022"
      ]
     },
     "execution_count": 37,
     "metadata": {},
     "output_type": "execute_result"
    }
   ],
   "source": [
    "len(df)"
   ]
  },
  {
   "cell_type": "code",
   "execution_count": 200,
   "metadata": {
    "collapsed": false
   },
   "outputs": [],
   "source": [
    "df[:10].to_csv('see.csv')"
   ]
  },
  {
   "cell_type": "code",
   "execution_count": 107,
   "metadata": {
    "collapsed": true
   },
   "outputs": [],
   "source": [
    "df['EIN']=pd.Series(df['EIN']).astype(str).str.zfill(9)"
   ]
  },
  {
   "cell_type": "code",
   "execution_count": 109,
   "metadata": {
    "collapsed": true
   },
   "outputs": [],
   "source": [
    "df.to_csv('eo.csv')"
   ]
  },
  {
   "cell_type": "markdown",
   "metadata": {},
   "source": [
    "Top 1000 from IRS"
   ]
  },
  {
   "cell_type": "code",
   "execution_count": null,
   "metadata": {
    "collapsed": true
   },
   "outputs": [],
   "source": [
    "df['INCOME_AMT']=df['INCOME_AMT'].replace('$','').replace(',','').astype(float)"
   ]
  },
  {
   "cell_type": "code",
   "execution_count": 304,
   "metadata": {
    "collapsed": false
   },
   "outputs": [],
   "source": [
    "dfkey= df.loc[df['MSA1'].isin(cities)]\n",
    "df100=dfkey.sort_values(['INCOME_AMT'],ascending=False)[:100]"
   ]
  },
  {
   "cell_type": "code",
   "execution_count": 305,
   "metadata": {
    "collapsed": false
   },
   "outputs": [],
   "source": [
    "df100=df100[['EIN','NAME','STREET','CITY','STATE','ZIP','RULING','ASSET_AMT','INCOME_AMT','REVENUE_AMT','NTEE_CD','MSA1']]"
   ]
  },
  {
   "cell_type": "code",
   "execution_count": 306,
   "metadata": {
    "collapsed": false
   },
   "outputs": [],
   "source": [
    "df.rename(columns={'$a': 'a', '$b': 'b'}, inplace=True)\n",
    "df100=df100.rename(columns={'EIN':'EIN','NAME':'Name in IRS Master File','STREET':'Street','CITY':'City','STATE':'State','ZIP':'Zip','RULING':'Founded','NTEE_CD':'NTEE Code'\n",
    "})"
   ]
  },
  {
   "cell_type": "code",
   "execution_count": 307,
   "metadata": {
    "collapsed": false
   },
   "outputs": [],
   "source": [
    "df100=df100[df100['NTEE Code'].str.startswith('B') != True]"
   ]
  },
  {
   "cell_type": "code",
   "execution_count": 308,
   "metadata": {
    "collapsed": false
   },
   "outputs": [],
   "source": [
    "df100.to_csv('IRS100.csv',index=False)"
   ]
  },
  {
   "cell_type": "markdown",
   "metadata": {},
   "source": [
    "4 Stars in Charity Navigator"
   ]
  },
  {
   "cell_type": "code",
   "execution_count": 66,
   "metadata": {
    "collapsed": false
   },
   "outputs": [],
   "source": [
    "df4stars=pd.read_excel('4starsNGO.xlsx',sheetname='All')"
   ]
  },
  {
   "cell_type": "code",
   "execution_count": 68,
   "metadata": {
    "collapsed": false
   },
   "outputs": [
    {
     "data": {
      "text/html": [
       "<div>\n",
       "<table border=\"1\" class=\"dataframe\">\n",
       "  <thead>\n",
       "    <tr style=\"text-align: right;\">\n",
       "      <th></th>\n",
       "      <th>EIN</th>\n",
       "      <th>Name in IRS Master File</th>\n",
       "      <th>NTEE Code</th>\n",
       "      <th>NTEE Type (26)</th>\n",
       "      <th>NTEE Classification</th>\n",
       "      <th>Affiliation</th>\n",
       "      <th>Founded</th>\n",
       "      <th>Overall</th>\n",
       "      <th>Financial Socre</th>\n",
       "      <th>Transparency Score</th>\n",
       "      <th>Tel</th>\n",
       "      <th>Website</th>\n",
       "      <th>Street</th>\n",
       "      <th>City</th>\n",
       "      <th>State</th>\n",
       "      <th>Zip</th>\n",
       "      <th>MSA1</th>\n",
       "    </tr>\n",
       "  </thead>\n",
       "  <tbody>\n",
       "    <tr>\n",
       "      <th>0</th>\n",
       "      <td>41-1627391</td>\n",
       "      <td>Books For Africa Inc</td>\n",
       "      <td>Q30</td>\n",
       "      <td>International, Foreign Affairs and National Se...</td>\n",
       "      <td>International Development, Relief Services</td>\n",
       "      <td>Independent</td>\n",
       "      <td>September, 1993</td>\n",
       "      <td>99.95</td>\n",
       "      <td>99.93</td>\n",
       "      <td>100</td>\n",
       "      <td>tel: (651) 602-9844</td>\n",
       "      <td>http://www.booksforafrica.org</td>\n",
       "      <td>26 East Exchange Street</td>\n",
       "      <td>Saint Paul</td>\n",
       "      <td>MN</td>\n",
       "      <td>55101</td>\n",
       "      <td>Minneapolis</td>\n",
       "    </tr>\n",
       "    <tr>\n",
       "      <th>1</th>\n",
       "      <td>13-3848582</td>\n",
       "      <td>Fjc</td>\n",
       "      <td>I99</td>\n",
       "      <td>Crime, Legal-Related</td>\n",
       "      <td>Crime, Legal Related N.E.C.</td>\n",
       "      <td>Independent</td>\n",
       "      <td>January, 1996</td>\n",
       "      <td>99.89</td>\n",
       "      <td>99.85</td>\n",
       "      <td>100</td>\n",
       "      <td>tel: (888) 448-3352</td>\n",
       "      <td>http://www.fjc.org/</td>\n",
       "      <td>520 Eighth Avenue</td>\n",
       "      <td>New York</td>\n",
       "      <td>NY</td>\n",
       "      <td>10018</td>\n",
       "      <td>New York</td>\n",
       "    </tr>\n",
       "    <tr>\n",
       "      <th>2</th>\n",
       "      <td>77-0459884</td>\n",
       "      <td>Asha For Education</td>\n",
       "      <td>Q30</td>\n",
       "      <td>International, Foreign Affairs and National Se...</td>\n",
       "      <td>International Development, Relief Services</td>\n",
       "      <td>Independent</td>\n",
       "      <td>February, 1998</td>\n",
       "      <td>99.75</td>\n",
       "      <td>99.65</td>\n",
       "      <td>100</td>\n",
       "      <td>tel: (419) 855-2742</td>\n",
       "      <td>http://www.ashanet.org</td>\n",
       "      <td>P.O. Box 322</td>\n",
       "      <td>New York</td>\n",
       "      <td>NY</td>\n",
       "      <td>10040</td>\n",
       "      <td>New York</td>\n",
       "    </tr>\n",
       "    <tr>\n",
       "      <th>3</th>\n",
       "      <td>52-1555563</td>\n",
       "      <td>India Development And Relief Fund Inc</td>\n",
       "      <td>Q30</td>\n",
       "      <td>International, Foreign Affairs and National Se...</td>\n",
       "      <td>International Development, Relief Services</td>\n",
       "      <td>Independent</td>\n",
       "      <td>October, 1988</td>\n",
       "      <td>99.75</td>\n",
       "      <td>99.65</td>\n",
       "      <td>100</td>\n",
       "      <td>tel: (301) 704-0032</td>\n",
       "      <td>http://www.idrf.org</td>\n",
       "      <td>5821 Mossrock Drive</td>\n",
       "      <td>North Bethesda</td>\n",
       "      <td>MD</td>\n",
       "      <td>20852</td>\n",
       "      <td>Washington</td>\n",
       "    </tr>\n",
       "    <tr>\n",
       "      <th>4</th>\n",
       "      <td>94-2614101</td>\n",
       "      <td>Second Harvest Food Bank Of Santa Clara And Sa...</td>\n",
       "      <td>K31</td>\n",
       "      <td>Food, Agriculture and Nutrition</td>\n",
       "      <td>Food Banks, Food Pantries</td>\n",
       "      <td>Independent</td>\n",
       "      <td>December, 1979</td>\n",
       "      <td>99.67</td>\n",
       "      <td>99.54</td>\n",
       "      <td>100</td>\n",
       "      <td>tel: (866) 234-3663</td>\n",
       "      <td>http://www.shfb.org</td>\n",
       "      <td>750 Curtner Avenue</td>\n",
       "      <td>San Jose</td>\n",
       "      <td>CA</td>\n",
       "      <td>95125</td>\n",
       "      <td>San Jose</td>\n",
       "    </tr>\n",
       "  </tbody>\n",
       "</table>\n",
       "</div>"
      ],
      "text/plain": [
       "          EIN                            Name in IRS Master File NTEE Code  \\\n",
       "0  41-1627391                               Books For Africa Inc       Q30   \n",
       "1  13-3848582                                                Fjc       I99   \n",
       "2  77-0459884                                 Asha For Education       Q30   \n",
       "3  52-1555563              India Development And Relief Fund Inc       Q30   \n",
       "4  94-2614101  Second Harvest Food Bank Of Santa Clara And Sa...       K31   \n",
       "\n",
       "                                      NTEE Type (26)  \\\n",
       "0  International, Foreign Affairs and National Se...   \n",
       "1                               Crime, Legal-Related   \n",
       "2  International, Foreign Affairs and National Se...   \n",
       "3  International, Foreign Affairs and National Se...   \n",
       "4                    Food, Agriculture and Nutrition   \n",
       "\n",
       "                          NTEE Classification   Affiliation          Founded  \\\n",
       "0  International Development, Relief Services  Independent   September, 1993   \n",
       "1                 Crime, Legal Related N.E.C.  Independent     January, 1996   \n",
       "2  International Development, Relief Services  Independent    February, 1998   \n",
       "3  International Development, Relief Services  Independent     October, 1988   \n",
       "4                   Food Banks, Food Pantries  Independent    December, 1979   \n",
       "\n",
       "   Overall  Financial Socre  Transparency Score                  Tel  \\\n",
       "0    99.95            99.93                 100  tel: (651) 602-9844   \n",
       "1    99.89            99.85                 100  tel: (888) 448-3352   \n",
       "2    99.75            99.65                 100  tel: (419) 855-2742   \n",
       "3    99.75            99.65                 100  tel: (301) 704-0032   \n",
       "4    99.67            99.54                 100  tel: (866) 234-3663   \n",
       "\n",
       "                         Website                   Street            City  \\\n",
       "0  http://www.booksforafrica.org  26 East Exchange Street      Saint Paul   \n",
       "1            http://www.fjc.org/        520 Eighth Avenue        New York   \n",
       "2         http://www.ashanet.org             P.O. Box 322        New York   \n",
       "3            http://www.idrf.org      5821 Mossrock Drive  North Bethesda   \n",
       "4            http://www.shfb.org       750 Curtner Avenue        San Jose   \n",
       "\n",
       "  State    Zip         MSA1  \n",
       "0    MN  55101  Minneapolis  \n",
       "1    NY  10018     New York  \n",
       "2    NY  10040     New York  \n",
       "3    MD  20852   Washington  \n",
       "4    CA  95125     San Jose  "
      ]
     },
     "execution_count": 68,
     "metadata": {},
     "output_type": "execute_result"
    }
   ],
   "source": [
    "df4stars[:5]"
   ]
  },
  {
   "cell_type": "code",
   "execution_count": 69,
   "metadata": {
    "collapsed": true
   },
   "outputs": [],
   "source": [
    "df4stars['EIN']=pd.DataFrame(list(df4stars['EIN'].str.replace('-','')))"
   ]
  },
  {
   "cell_type": "code",
   "execution_count": 272,
   "metadata": {
    "collapsed": false
   },
   "outputs": [
    {
     "data": {
      "text/plain": [
       "979"
      ]
     },
     "execution_count": 272,
     "metadata": {},
     "output_type": "execute_result"
    }
   ],
   "source": [
    "len(df4stars)"
   ]
  },
  {
   "cell_type": "code",
   "execution_count": 280,
   "metadata": {
    "collapsed": false
   },
   "outputs": [
    {
     "data": {
      "text/plain": [
       "883"
      ]
     },
     "execution_count": 280,
     "metadata": {},
     "output_type": "execute_result"
    }
   ],
   "source": [
    "len(df1000)"
   ]
  },
  {
   "cell_type": "code",
   "execution_count": 309,
   "metadata": {
    "collapsed": false
   },
   "outputs": [
    {
     "data": {
      "text/plain": [
       "6"
      ]
     },
     "execution_count": 309,
     "metadata": {},
     "output_type": "execute_result"
    }
   ],
   "source": [
    "len(df100.loc[df100['EIN'].isin(list(df4stars['EIN']))])"
   ]
  },
  {
   "cell_type": "markdown",
   "metadata": {},
   "source": [
    "Top 1000 from GuideStar"
   ]
  },
  {
   "cell_type": "code",
   "execution_count": 312,
   "metadata": {
    "collapsed": false
   },
   "outputs": [],
   "source": [
    "dfg=pd.read_csv('Key50M.csv',encoding='iso-8859-1')"
   ]
  },
  {
   "cell_type": "code",
   "execution_count": 313,
   "metadata": {
    "collapsed": true
   },
   "outputs": [],
   "source": [
    "dfg['EIN']=pd.DataFrame(list(dfg['EIN'].str.replace('-','')))"
   ]
  },
  {
   "cell_type": "code",
   "execution_count": 314,
   "metadata": {
    "collapsed": false
   },
   "outputs": [],
   "source": [
    "dfg=dfg[['Org Name','EIN','Address Line 1','City','State','Zip','NTEE Code','Total Assets','Total Income']]"
   ]
  },
  {
   "cell_type": "code",
   "execution_count": 315,
   "metadata": {
    "collapsed": false
   },
   "outputs": [],
   "source": [
    "dfg=dfg.rename(columns={'EIN':'EIN','Org Name':'Name in IRS Master File','Address Line 1':'Street','Total Assets':'ASSET_AMT','Total Income':'INCOME_AMT'\n",
    "})"
   ]
  },
  {
   "cell_type": "code",
   "execution_count": 316,
   "metadata": {
    "collapsed": false
   },
   "outputs": [],
   "source": [
    "dfg100=dfg.sort_values(['INCOME_AMT'],ascending=False)[:100]"
   ]
  },
  {
   "cell_type": "code",
   "execution_count": 317,
   "metadata": {
    "collapsed": true
   },
   "outputs": [],
   "source": [
    "dfg100.to_csv('GuideStar100.csv',index=False)"
   ]
  },
  {
   "cell_type": "code",
   "execution_count": 318,
   "metadata": {
    "collapsed": false
   },
   "outputs": [
    {
     "data": {
      "text/plain": [
       "4"
      ]
     },
     "execution_count": 318,
     "metadata": {},
     "output_type": "execute_result"
    }
   ],
   "source": [
    "len(dfg100.loc[dfg100['EIN'].isin(list(df4stars['EIN']))])"
   ]
  },
  {
   "cell_type": "code",
   "execution_count": 319,
   "metadata": {
    "collapsed": false
   },
   "outputs": [
    {
     "data": {
      "text/plain": [
       "53"
      ]
     },
     "execution_count": 319,
     "metadata": {},
     "output_type": "execute_result"
    }
   ],
   "source": [
    "len(dfg100.loc[dfg100['EIN'].isin(list(df100['EIN']))])"
   ]
  },
  {
   "cell_type": "code",
   "execution_count": null,
   "metadata": {
    "collapsed": true
   },
   "outputs": [],
   "source": []
  },
  {
   "cell_type": "code",
   "execution_count": null,
   "metadata": {
    "collapsed": true
   },
   "outputs": [],
   "source": []
  },
  {
   "cell_type": "code",
   "execution_count": 190,
   "metadata": {
    "collapsed": true
   },
   "outputs": [],
   "source": [
    "dfr=pd.read_csv('ngoall.csv')"
   ]
  },
  {
   "cell_type": "code",
   "execution_count": 191,
   "metadata": {
    "collapsed": true
   },
   "outputs": [],
   "source": [
    "dfr['EIN']=pd.DataFrame(list(dfr['EIN'].str.replace('-','')))"
   ]
  },
  {
   "cell_type": "code",
   "execution_count": 202,
   "metadata": {
    "collapsed": false
   },
   "outputs": [
    {
     "data": {
      "text/plain": [
       "1087"
      ]
     },
     "execution_count": 202,
     "metadata": {},
     "output_type": "execute_result"
    }
   ],
   "source": [
    "len(df10000.loc[df10000['EIN'].isin(list(dfr['EIN']))])"
   ]
  },
  {
   "cell_type": "code",
   "execution_count": 221,
   "metadata": {
    "collapsed": false
   },
   "outputs": [
    {
     "data": {
      "text/plain": [
       "375"
      ]
     },
     "execution_count": 221,
     "metadata": {},
     "output_type": "execute_result"
    }
   ],
   "source": [
    "len(dfg.loc[dfg['EIN'].isin(list(df10000['EIN']))])"
   ]
  },
  {
   "cell_type": "code",
   "execution_count": 222,
   "metadata": {
    "collapsed": false
   },
   "outputs": [
    {
     "data": {
      "text/html": [
       "<div>\n",
       "<table border=\"1\" class=\"dataframe\">\n",
       "  <thead>\n",
       "    <tr style=\"text-align: right;\">\n",
       "      <th></th>\n",
       "      <th>EIN</th>\n",
       "      <th>NAME</th>\n",
       "      <th>ICO</th>\n",
       "      <th>STREET</th>\n",
       "      <th>CITY</th>\n",
       "      <th>STATE</th>\n",
       "      <th>ZIP</th>\n",
       "      <th>GROUP</th>\n",
       "      <th>SUBSECTION</th>\n",
       "      <th>AFFILIATION</th>\n",
       "      <th>...</th>\n",
       "      <th>ACCT_PD</th>\n",
       "      <th>ASSET_AMT</th>\n",
       "      <th>INCOME_AMT</th>\n",
       "      <th>REVENUE_AMT</th>\n",
       "      <th>NTEE_CD</th>\n",
       "      <th>SORT_NAME</th>\n",
       "      <th>ZIP CODE</th>\n",
       "      <th>MSA1</th>\n",
       "      <th>MSA2</th>\n",
       "      <th>MSA3</th>\n",
       "    </tr>\n",
       "  </thead>\n",
       "  <tbody>\n",
       "    <tr>\n",
       "      <th>1515370</th>\n",
       "      <td>941340523</td>\n",
       "      <td>KAISER FOUNDATION HEALTH PLAN INC</td>\n",
       "      <td>% SVP CC AND CAO</td>\n",
       "      <td>2701 NW VAUGHN ST STE 490</td>\n",
       "      <td>PORTLAND</td>\n",
       "      <td>OR</td>\n",
       "      <td>97210</td>\n",
       "      <td>0</td>\n",
       "      <td>3</td>\n",
       "      <td>3</td>\n",
       "      <td>...</td>\n",
       "      <td>12</td>\n",
       "      <td>18476161448</td>\n",
       "      <td>6.650191e+10</td>\n",
       "      <td>45409123226</td>\n",
       "      <td>E310</td>\n",
       "      <td>NaN</td>\n",
       "      <td>97210</td>\n",
       "      <td>Portland</td>\n",
       "      <td>Vancouver</td>\n",
       "      <td>Beaverton</td>\n",
       "    </tr>\n",
       "    <tr>\n",
       "      <th>175726</th>\n",
       "      <td>311685372</td>\n",
       "      <td>SELENA THOMAS JACKSON PROFIT ORGANIZATION</td>\n",
       "      <td>% MT OLIVE UNITED MISSION</td>\n",
       "      <td>39 COTTAGE ST 2</td>\n",
       "      <td>LYNN</td>\n",
       "      <td>MA</td>\n",
       "      <td>01905</td>\n",
       "      <td>0</td>\n",
       "      <td>91</td>\n",
       "      <td>0</td>\n",
       "      <td>...</td>\n",
       "      <td>12</td>\n",
       "      <td>0</td>\n",
       "      <td>3.403211e+10</td>\n",
       "      <td>32773720872</td>\n",
       "      <td>NaN</td>\n",
       "      <td>MT OLIVE-UNITED REVENUE SERVICE INC</td>\n",
       "      <td>01905</td>\n",
       "      <td>Boston</td>\n",
       "      <td>Cambridge</td>\n",
       "      <td>Quincy</td>\n",
       "    </tr>\n",
       "    <tr>\n",
       "      <th>1514452</th>\n",
       "      <td>941105628</td>\n",
       "      <td>KAISER FOUNDATION HOSPITALS</td>\n",
       "      <td>% SVP CC AND CAO</td>\n",
       "      <td>2701 NW VAUGHN ST STE 490</td>\n",
       "      <td>PORTLAND</td>\n",
       "      <td>OR</td>\n",
       "      <td>97210</td>\n",
       "      <td>0</td>\n",
       "      <td>3</td>\n",
       "      <td>3</td>\n",
       "      <td>...</td>\n",
       "      <td>12</td>\n",
       "      <td>42837008991</td>\n",
       "      <td>3.049944e+10</td>\n",
       "      <td>20796549014</td>\n",
       "      <td>E210</td>\n",
       "      <td>NaN</td>\n",
       "      <td>97210</td>\n",
       "      <td>Portland</td>\n",
       "      <td>Vancouver</td>\n",
       "      <td>Beaverton</td>\n",
       "    </tr>\n",
       "    <tr>\n",
       "      <th>230578</th>\n",
       "      <td>900656139</td>\n",
       "      <td>PARTNERS HEALTHCARE SYSTEM INC</td>\n",
       "      <td>% PARTNERS FIN-TAX DIRECTOR</td>\n",
       "      <td>800 BOYLSTON STREET</td>\n",
       "      <td>BOSTON</td>\n",
       "      <td>MA</td>\n",
       "      <td>02199</td>\n",
       "      <td>5803</td>\n",
       "      <td>3</td>\n",
       "      <td>9</td>\n",
       "      <td>...</td>\n",
       "      <td>9</td>\n",
       "      <td>14701370735</td>\n",
       "      <td>1.109718e+10</td>\n",
       "      <td>11091388129</td>\n",
       "      <td>E21</td>\n",
       "      <td>AFFILIATES GROUP RETURN</td>\n",
       "      <td>02199</td>\n",
       "      <td>Boston</td>\n",
       "      <td>Cambridge</td>\n",
       "      <td>Quincy</td>\n",
       "    </tr>\n",
       "    <tr>\n",
       "      <th>274486</th>\n",
       "      <td>208295721</td>\n",
       "      <td>UPMC</td>\n",
       "      <td>% PHILLIP FREEMAN</td>\n",
       "      <td>600 GRANT ST FL 58</td>\n",
       "      <td>PITTSBURGH</td>\n",
       "      <td>PA</td>\n",
       "      <td>15219</td>\n",
       "      <td>9707</td>\n",
       "      <td>3</td>\n",
       "      <td>9</td>\n",
       "      <td>...</td>\n",
       "      <td>6</td>\n",
       "      <td>6276733210</td>\n",
       "      <td>1.038727e+10</td>\n",
       "      <td>10098163008</td>\n",
       "      <td>NaN</td>\n",
       "      <td>HOME NURSING AGENCY HOSPICE</td>\n",
       "      <td>15219</td>\n",
       "      <td>Pittsburgh</td>\n",
       "      <td>NaN</td>\n",
       "      <td>NaN</td>\n",
       "    </tr>\n",
       "    <tr>\n",
       "      <th>819495</th>\n",
       "      <td>900424876</td>\n",
       "      <td>UAW RETIREE MEDICAL BENEFITS TR</td>\n",
       "      <td>% NORTH TRUST COMPANY TTEE</td>\n",
       "      <td>200 WALKER ST</td>\n",
       "      <td>DETROIT</td>\n",
       "      <td>MI</td>\n",
       "      <td>48207</td>\n",
       "      <td>0</td>\n",
       "      <td>9</td>\n",
       "      <td>3</td>\n",
       "      <td>...</td>\n",
       "      <td>12</td>\n",
       "      <td>62942250299</td>\n",
       "      <td>1.188350e+11</td>\n",
       "      <td>9890722789</td>\n",
       "      <td>Y43</td>\n",
       "      <td>NaN</td>\n",
       "      <td>48207</td>\n",
       "      <td>Detroit</td>\n",
       "      <td>Warren</td>\n",
       "      <td>Livonia</td>\n",
       "    </tr>\n",
       "    <tr>\n",
       "      <th>545964</th>\n",
       "      <td>390123480</td>\n",
       "      <td>THRIVENT FINANCIAL FOR LUTHERANS</td>\n",
       "      <td>NaN</td>\n",
       "      <td>625 FOURTH AVE S MS 1370</td>\n",
       "      <td>MINNEAPOLIS</td>\n",
       "      <td>MN</td>\n",
       "      <td>55415</td>\n",
       "      <td>285</td>\n",
       "      <td>8</td>\n",
       "      <td>6</td>\n",
       "      <td>...</td>\n",
       "      <td>12</td>\n",
       "      <td>76993332592</td>\n",
       "      <td>2.566658e+10</td>\n",
       "      <td>9475129863</td>\n",
       "      <td>NaN</td>\n",
       "      <td>NaN</td>\n",
       "      <td>55415</td>\n",
       "      <td>Minneapolis</td>\n",
       "      <td>St. Paul</td>\n",
       "      <td>Bloomington</td>\n",
       "    </tr>\n",
       "    <tr>\n",
       "      <th>1514824</th>\n",
       "      <td>941196203</td>\n",
       "      <td>DIGNITY HEALTH</td>\n",
       "      <td>% MARY CONNICK - FINANCE DEPT</td>\n",
       "      <td>1800 N CALIFORNIA ST</td>\n",
       "      <td>STOCKTON</td>\n",
       "      <td>CA</td>\n",
       "      <td>95204</td>\n",
       "      <td>0</td>\n",
       "      <td>3</td>\n",
       "      <td>3</td>\n",
       "      <td>...</td>\n",
       "      <td>6</td>\n",
       "      <td>12980966213</td>\n",
       "      <td>1.060156e+10</td>\n",
       "      <td>8655129029</td>\n",
       "      <td>E22</td>\n",
       "      <td>NaN</td>\n",
       "      <td>95204</td>\n",
       "      <td>Stockton</td>\n",
       "      <td>NaN</td>\n",
       "      <td>NaN</td>\n",
       "    </tr>\n",
       "    <tr>\n",
       "      <th>827676</th>\n",
       "      <td>912153073</td>\n",
       "      <td>CLEVELAND CLINIC FOUNDATION</td>\n",
       "      <td>NaN</td>\n",
       "      <td>9500 EUCLID AVENUE NO JJ19</td>\n",
       "      <td>CLEVELAND</td>\n",
       "      <td>OH</td>\n",
       "      <td>44195</td>\n",
       "      <td>3641</td>\n",
       "      <td>3</td>\n",
       "      <td>9</td>\n",
       "      <td>...</td>\n",
       "      <td>12</td>\n",
       "      <td>12283938264</td>\n",
       "      <td>8.683925e+09</td>\n",
       "      <td>7523260077</td>\n",
       "      <td>E030</td>\n",
       "      <td>GROUP RETURN</td>\n",
       "      <td>44195</td>\n",
       "      <td>Cleveland</td>\n",
       "      <td>Elyria</td>\n",
       "      <td>Mentor</td>\n",
       "    </tr>\n",
       "    <tr>\n",
       "      <th>14973</th>\n",
       "      <td>042103580</td>\n",
       "      <td>PRESIDENT AND FELLOWS OF HARVARD COLLEGE</td>\n",
       "      <td>NaN</td>\n",
       "      <td>1033 MASSACHUSETTS AVE STE 3</td>\n",
       "      <td>CAMBRIDGE</td>\n",
       "      <td>MA</td>\n",
       "      <td>02138</td>\n",
       "      <td>0</td>\n",
       "      <td>3</td>\n",
       "      <td>3</td>\n",
       "      <td>...</td>\n",
       "      <td>6</td>\n",
       "      <td>68112313000</td>\n",
       "      <td>8.148716e+10</td>\n",
       "      <td>6740015230</td>\n",
       "      <td>B500</td>\n",
       "      <td>NaN</td>\n",
       "      <td>02138</td>\n",
       "      <td>Boston</td>\n",
       "      <td>Cambridge</td>\n",
       "      <td>Quincy</td>\n",
       "    </tr>\n",
       "  </tbody>\n",
       "</table>\n",
       "<p>10 rows × 32 columns</p>\n",
       "</div>"
      ],
      "text/plain": [
       "               EIN                                       NAME  \\\n",
       "1515370  941340523          KAISER FOUNDATION HEALTH PLAN INC   \n",
       "175726   311685372  SELENA THOMAS JACKSON PROFIT ORGANIZATION   \n",
       "1514452  941105628                KAISER FOUNDATION HOSPITALS   \n",
       "230578   900656139             PARTNERS HEALTHCARE SYSTEM INC   \n",
       "274486   208295721                                       UPMC   \n",
       "819495   900424876            UAW RETIREE MEDICAL BENEFITS TR   \n",
       "545964   390123480           THRIVENT FINANCIAL FOR LUTHERANS   \n",
       "1514824  941196203                             DIGNITY HEALTH   \n",
       "827676   912153073                CLEVELAND CLINIC FOUNDATION   \n",
       "14973    042103580   PRESIDENT AND FELLOWS OF HARVARD COLLEGE   \n",
       "\n",
       "                                   ICO                        STREET  \\\n",
       "1515370               % SVP CC AND CAO     2701 NW VAUGHN ST STE 490   \n",
       "175726       % MT OLIVE UNITED MISSION               39 COTTAGE ST 2   \n",
       "1514452               % SVP CC AND CAO     2701 NW VAUGHN ST STE 490   \n",
       "230578     % PARTNERS FIN-TAX DIRECTOR           800 BOYLSTON STREET   \n",
       "274486               % PHILLIP FREEMAN            600 GRANT ST FL 58   \n",
       "819495      % NORTH TRUST COMPANY TTEE                 200 WALKER ST   \n",
       "545964                             NaN      625 FOURTH AVE S MS 1370   \n",
       "1514824  % MARY CONNICK - FINANCE DEPT          1800 N CALIFORNIA ST   \n",
       "827676                             NaN    9500 EUCLID AVENUE NO JJ19   \n",
       "14973                              NaN  1033 MASSACHUSETTS AVE STE 3   \n",
       "\n",
       "                CITY STATE    ZIP  GROUP  SUBSECTION  AFFILIATION  \\\n",
       "1515370     PORTLAND    OR  97210      0           3            3   \n",
       "175726          LYNN    MA  01905      0          91            0   \n",
       "1514452     PORTLAND    OR  97210      0           3            3   \n",
       "230578        BOSTON    MA  02199   5803           3            9   \n",
       "274486    PITTSBURGH    PA  15219   9707           3            9   \n",
       "819495       DETROIT    MI  48207      0           9            3   \n",
       "545964   MINNEAPOLIS    MN  55415    285           8            6   \n",
       "1514824     STOCKTON    CA  95204      0           3            3   \n",
       "827676     CLEVELAND    OH  44195   3641           3            9   \n",
       "14973      CAMBRIDGE    MA  02138      0           3            3   \n",
       "\n",
       "            ...       ACCT_PD    ASSET_AMT    INCOME_AMT  REVENUE_AMT  \\\n",
       "1515370     ...            12  18476161448  6.650191e+10  45409123226   \n",
       "175726      ...            12            0  3.403211e+10  32773720872   \n",
       "1514452     ...            12  42837008991  3.049944e+10  20796549014   \n",
       "230578      ...             9  14701370735  1.109718e+10  11091388129   \n",
       "274486      ...             6   6276733210  1.038727e+10  10098163008   \n",
       "819495      ...            12  62942250299  1.188350e+11   9890722789   \n",
       "545964      ...            12  76993332592  2.566658e+10   9475129863   \n",
       "1514824     ...             6  12980966213  1.060156e+10   8655129029   \n",
       "827676      ...            12  12283938264  8.683925e+09   7523260077   \n",
       "14973       ...             6  68112313000  8.148716e+10   6740015230   \n",
       "\n",
       "         NTEE_CD                            SORT_NAME  ZIP CODE         MSA1  \\\n",
       "1515370     E310                                  NaN     97210     Portland   \n",
       "175726       NaN  MT OLIVE-UNITED REVENUE SERVICE INC     01905       Boston   \n",
       "1514452     E210                                  NaN     97210     Portland   \n",
       "230578       E21              AFFILIATES GROUP RETURN     02199       Boston   \n",
       "274486       NaN          HOME NURSING AGENCY HOSPICE     15219   Pittsburgh   \n",
       "819495       Y43                                  NaN     48207      Detroit   \n",
       "545964       NaN                                  NaN     55415  Minneapolis   \n",
       "1514824      E22                                  NaN     95204     Stockton   \n",
       "827676      E030                         GROUP RETURN     44195    Cleveland   \n",
       "14973       B500                                  NaN     02138       Boston   \n",
       "\n",
       "              MSA2         MSA3  \n",
       "1515370  Vancouver    Beaverton  \n",
       "175726   Cambridge       Quincy  \n",
       "1514452  Vancouver    Beaverton  \n",
       "230578   Cambridge       Quincy  \n",
       "274486         NaN          NaN  \n",
       "819495      Warren      Livonia  \n",
       "545964    St. Paul  Bloomington  \n",
       "1514824        NaN          NaN  \n",
       "827676      Elyria       Mentor  \n",
       "14973    Cambridge       Quincy  \n",
       "\n",
       "[10 rows x 32 columns]"
      ]
     },
     "execution_count": 222,
     "metadata": {},
     "output_type": "execute_result"
    }
   ],
   "source": [
    "df.sort_values(['REVENUE_AMT'],ascending=False)[:10]"
   ]
  },
  {
   "cell_type": "code",
   "execution_count": null,
   "metadata": {
    "collapsed": true
   },
   "outputs": [],
   "source": []
  }
 ],
 "metadata": {
  "kernelspec": {
   "display_name": "Python 3",
   "language": "python",
   "name": "python3"
  },
  "language_info": {
   "codemirror_mode": {
    "name": "ipython",
    "version": 3
   },
   "file_extension": ".py",
   "mimetype": "text/x-python",
   "name": "python",
   "nbconvert_exporter": "python",
   "pygments_lexer": "ipython3",
   "version": "3.5.1"
  }
 },
 "nbformat": 4,
 "nbformat_minor": 0
}
