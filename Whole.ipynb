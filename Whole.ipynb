{
 "cells": [
  {
   "cell_type": "code",
   "execution_count": 1,
   "metadata": {
    "collapsed": true
   },
   "outputs": [],
   "source": [
    "import pandas as pd"
   ]
  },
  {
   "cell_type": "code",
   "execution_count": 2,
   "metadata": {
    "collapsed": true
   },
   "outputs": [],
   "source": [
    "df1=pd.read_csv('eo1.csv')\n",
    "df2=pd.read_csv('eo2.csv')\n",
    "df3=pd.read_csv('eo3.csv')\n",
    "dfz=pd.read_csv('zipmsa.csv')"
   ]
  },
  {
   "cell_type": "code",
   "execution_count": 80,
   "metadata": {
    "collapsed": false
   },
   "outputs": [
    {
     "data": {
      "text/plain": [
       "1571022"
      ]
     },
     "execution_count": 80,
     "metadata": {},
     "output_type": "execute_result"
    }
   ],
   "source": [
    "df4=df1.append(df2, ignore_index=True).append(df3, ignore_index=True)\n",
    "df4['ZIP']=pd.DataFrame(list(df4['ZIP'].str.split('-')))\n",
    "dfz['ZIP CODE']=pd.Series(dfz['ZIP CODE']).astype(str).str.zfill(5)\n",
    "df=df4.merge(dfz, how='left', left_on=['ZIP','STATE'],right_on=['ZIP CODE','STATE'])\n",
    "df.to_csv('eo.csv')"
   ]
  },
  {
   "cell_type": "markdown",
   "metadata": {},
   "source": [
    "Merge"
   ]
  },
  {
   "cell_type": "markdown",
   "metadata": {},
   "source": [
    "1)IRS Data"
   ]
  },
  {
   "cell_type": "code",
   "execution_count": 9,
   "metadata": {
    "collapsed": true
   },
   "outputs": [],
   "source": [
    "df1['INCOME_AMT']=df1['INCOME_AMT'].replace('$','').replace(',','').astype(float)"
   ]
  },
  {
   "cell_type": "code",
   "execution_count": 10,
   "metadata": {
    "collapsed": true
   },
   "outputs": [],
   "source": [
    "df1['ASSET_AMT']=df1['ASSET_AMT'].replace('$','').replace(',','').astype(float)"
   ]
  },
  {
   "cell_type": "code",
   "execution_count": 11,
   "metadata": {
    "collapsed": true
   },
   "outputs": [],
   "source": [
    "df1['REVENUE_AMT']=df1['REVENUE_AMT'].replace('$','').replace(',','').astype(float)"
   ]
  },
  {
   "cell_type": "code",
   "execution_count": 81,
   "metadata": {
    "collapsed": false
   },
   "outputs": [],
   "source": [
    "df1.to_csv('eo.csv')"
   ]
  },
  {
   "cell_type": "code",
   "execution_count": 4,
   "metadata": {
    "collapsed": true
   },
   "outputs": [],
   "source": [
    "df1=pd.read_csv('eo.csv')"
   ]
  },
  {
   "cell_type": "code",
   "execution_count": 6,
   "metadata": {
    "collapsed": false
   },
   "outputs": [],
   "source": [
    "df1['NTEE(26)']=df1['NTEE_CD'].apply(lambda x: str(x)[0])"
   ]
  },
  {
   "cell_type": "code",
   "execution_count": 36,
   "metadata": {
    "collapsed": false
   },
   "outputs": [],
   "source": [
    "df1.drop(df1.columns[0],axis=1,inplace=True)"
   ]
  },
  {
   "cell_type": "code",
   "execution_count": 7,
   "metadata": {
    "collapsed": true
   },
   "outputs": [],
   "source": [
    "cities=['New York','Washington','Chicago','San Francisco','Boston','Seattle','Houston','Minneapolis','Philadelphia','Dallas','San Jose']"
   ]
  },
  {
   "cell_type": "code",
   "execution_count": 8,
   "metadata": {
    "collapsed": false
   },
   "outputs": [],
   "source": [
    "df1['Key']= df1['MSA1'].apply(lambda x : 1 if x in cities else 0)"
   ]
  },
  {
   "cell_type": "code",
   "execution_count": 20,
   "metadata": {
    "collapsed": false
   },
   "outputs": [],
   "source": [
    "df1['EIN']=pd.Series(df1['EIN']).astype(str).str.zfill(9)"
   ]
  },
  {
   "cell_type": "markdown",
   "metadata": {},
   "source": [
    "2)Rank Data"
   ]
  },
  {
   "cell_type": "code",
   "execution_count": 9,
   "metadata": {
    "collapsed": false
   },
   "outputs": [],
   "source": [
    "df2=pd.read_csv('ngoall.csv')"
   ]
  },
  {
   "cell_type": "code",
   "execution_count": 227,
   "metadata": {
    "collapsed": true
   },
   "outputs": [],
   "source": [
    "df2['EIN']=pd.DataFrame(list(df2['EIN'].str.replace('-','')))"
   ]
  },
  {
   "cell_type": "code",
   "execution_count": 228,
   "metadata": {
    "collapsed": false
   },
   "outputs": [
    {
     "data": {
      "text/plain": [
       "8197"
      ]
     },
     "execution_count": 228,
     "metadata": {},
     "output_type": "execute_result"
    }
   ],
   "source": [
    "len(df2)"
   ]
  },
  {
   "cell_type": "code",
   "execution_count": 229,
   "metadata": {
    "collapsed": false
   },
   "outputs": [
    {
     "data": {
      "text/plain": [
       "8183"
      ]
     },
     "execution_count": 229,
     "metadata": {},
     "output_type": "execute_result"
    }
   ],
   "source": [
    "len(df2.loc[df2['EIN'].isin(list(df1['EIN']))])"
   ]
  },
  {
   "cell_type": "code",
   "execution_count": 230,
   "metadata": {
    "collapsed": true
   },
   "outputs": [],
   "source": [
    "df2=df2[['EIN','Overall']]"
   ]
  },
  {
   "cell_type": "code",
   "execution_count": 231,
   "metadata": {
    "collapsed": false
   },
   "outputs": [],
   "source": [
    "df12=df1.merge(df2, how='left', left_on=['EIN'],right_on=['EIN'])"
   ]
  },
  {
   "cell_type": "code",
   "execution_count": 232,
   "metadata": {
    "collapsed": false
   },
   "outputs": [
    {
     "data": {
      "text/plain": [
       "array(['n', 'X', 'N', 'Z', 'A', 'S', 'P', 'E', 'Y', 'W', 'B', 'O', 'U',\n",
       "       'T', 'F', 'H', 'L', 'D', 'C', 'G', 'Q', 'I', 'J', 'M', 'K', 'R',\n",
       "       'V', '0', 'c', '8'], dtype=object)"
      ]
     },
     "execution_count": 232,
     "metadata": {},
     "output_type": "execute_result"
    }
   ],
   "source": [
    "df12['NTEE(26)'].unique()"
   ]
  },
  {
   "cell_type": "code",
   "execution_count": 233,
   "metadata": {
    "collapsed": false,
    "scrolled": false
   },
   "outputs": [],
   "source": [
    "df12['NTEE(26)']=df12['NTEE(26)'].str.replace('c', 'C').str.replace('n', '').str.replace('8', '').str.replace('0', '')"
   ]
  },
  {
   "cell_type": "code",
   "execution_count": 218,
   "metadata": {
    "collapsed": false,
    "scrolled": true
   },
   "outputs": [
    {
     "data": {
      "text/html": [
       "<div>\n",
       "<table border=\"1\" class=\"dataframe\">\n",
       "  <thead>\n",
       "    <tr style=\"text-align: right;\">\n",
       "      <th></th>\n",
       "      <th>NTEE_Type(10)</th>\n",
       "      <th>NTEE(26)</th>\n",
       "      <th>NTEE_Type(26)</th>\n",
       "    </tr>\n",
       "  </thead>\n",
       "  <tbody>\n",
       "    <tr>\n",
       "      <th>0</th>\n",
       "      <td>Arts, Culture, and Humanities</td>\n",
       "      <td>A</td>\n",
       "      <td>Arts, Culture, and Humanities</td>\n",
       "    </tr>\n",
       "    <tr>\n",
       "      <th>1</th>\n",
       "      <td>Education</td>\n",
       "      <td>B</td>\n",
       "      <td>Educational Institutions</td>\n",
       "    </tr>\n",
       "    <tr>\n",
       "      <th>2</th>\n",
       "      <td>Environment and Animals</td>\n",
       "      <td>C</td>\n",
       "      <td>Environmental Quality Protection, Beautification</td>\n",
       "    </tr>\n",
       "    <tr>\n",
       "      <th>3</th>\n",
       "      <td>Environment and Animals</td>\n",
       "      <td>D</td>\n",
       "      <td>Animal related</td>\n",
       "    </tr>\n",
       "    <tr>\n",
       "      <th>4</th>\n",
       "      <td>Health</td>\n",
       "      <td>E</td>\n",
       "      <td>Health-General &amp; Rehabilitative</td>\n",
       "    </tr>\n",
       "    <tr>\n",
       "      <th>5</th>\n",
       "      <td>Health</td>\n",
       "      <td>F</td>\n",
       "      <td>Mental Health, Crisis Intervention</td>\n",
       "    </tr>\n",
       "    <tr>\n",
       "      <th>6</th>\n",
       "      <td>Health</td>\n",
       "      <td>G</td>\n",
       "      <td>Disease, Disorders, Medical Disciplines</td>\n",
       "    </tr>\n",
       "    <tr>\n",
       "      <th>7</th>\n",
       "      <td>Health</td>\n",
       "      <td>H</td>\n",
       "      <td>Medical Research</td>\n",
       "    </tr>\n",
       "    <tr>\n",
       "      <th>8</th>\n",
       "      <td>Human Services</td>\n",
       "      <td>I</td>\n",
       "      <td>Crime, Legal Related</td>\n",
       "    </tr>\n",
       "    <tr>\n",
       "      <th>9</th>\n",
       "      <td>Human Services</td>\n",
       "      <td>J</td>\n",
       "      <td>Employment, Job Related</td>\n",
       "    </tr>\n",
       "    <tr>\n",
       "      <th>10</th>\n",
       "      <td>Human Services</td>\n",
       "      <td>K</td>\n",
       "      <td>Agriculture, Food, Nutrition</td>\n",
       "    </tr>\n",
       "    <tr>\n",
       "      <th>11</th>\n",
       "      <td>Human Services</td>\n",
       "      <td>L</td>\n",
       "      <td>Housing, Shelter</td>\n",
       "    </tr>\n",
       "    <tr>\n",
       "      <th>12</th>\n",
       "      <td>Human Services</td>\n",
       "      <td>M</td>\n",
       "      <td>Public Safety, Disaster Preparedness and Relief</td>\n",
       "    </tr>\n",
       "    <tr>\n",
       "      <th>13</th>\n",
       "      <td>Human Services</td>\n",
       "      <td>N</td>\n",
       "      <td>Recreation, Sports, Leisure, Athletics</td>\n",
       "    </tr>\n",
       "    <tr>\n",
       "      <th>14</th>\n",
       "      <td>Human Services</td>\n",
       "      <td>O</td>\n",
       "      <td>Youth Development</td>\n",
       "    </tr>\n",
       "    <tr>\n",
       "      <th>15</th>\n",
       "      <td>Human Services</td>\n",
       "      <td>P</td>\n",
       "      <td>Human Services-Multipurpose and Other</td>\n",
       "    </tr>\n",
       "    <tr>\n",
       "      <th>16</th>\n",
       "      <td>International, Foreign Affairs</td>\n",
       "      <td>Q</td>\n",
       "      <td>International, Foreign Affairs, and National S...</td>\n",
       "    </tr>\n",
       "    <tr>\n",
       "      <th>17</th>\n",
       "      <td>Public, Societal Benefit</td>\n",
       "      <td>R</td>\n",
       "      <td>Civil Rights, Social Action, Advocacy</td>\n",
       "    </tr>\n",
       "    <tr>\n",
       "      <th>18</th>\n",
       "      <td>Public, Societal Benefit</td>\n",
       "      <td>S</td>\n",
       "      <td>Community Improvement, Capacity Building</td>\n",
       "    </tr>\n",
       "    <tr>\n",
       "      <th>19</th>\n",
       "      <td>Public, Societal Benefit</td>\n",
       "      <td>T</td>\n",
       "      <td>Philanthropy, Voluntarism, and Grantmaking</td>\n",
       "    </tr>\n",
       "    <tr>\n",
       "      <th>20</th>\n",
       "      <td>Public, Societal Benefit</td>\n",
       "      <td>U</td>\n",
       "      <td>Science and Technology Research Institutes</td>\n",
       "    </tr>\n",
       "    <tr>\n",
       "      <th>21</th>\n",
       "      <td>Public, Societal Benefit</td>\n",
       "      <td>V</td>\n",
       "      <td>Social Science Research Institutes</td>\n",
       "    </tr>\n",
       "    <tr>\n",
       "      <th>22</th>\n",
       "      <td>Public, Societal Benefit</td>\n",
       "      <td>W</td>\n",
       "      <td>Public, Society Benefit</td>\n",
       "    </tr>\n",
       "    <tr>\n",
       "      <th>23</th>\n",
       "      <td>Religion Related</td>\n",
       "      <td>X</td>\n",
       "      <td>Religion, Spiritual Development</td>\n",
       "    </tr>\n",
       "    <tr>\n",
       "      <th>24</th>\n",
       "      <td>Mutual/Membership Benefit</td>\n",
       "      <td>Y</td>\n",
       "      <td>Mutual/Membership Benefit Organizations, Other</td>\n",
       "    </tr>\n",
       "    <tr>\n",
       "      <th>25</th>\n",
       "      <td>Unknown, Unclassified</td>\n",
       "      <td>Z</td>\n",
       "      <td>Unknown, Unclassified</td>\n",
       "    </tr>\n",
       "  </tbody>\n",
       "</table>\n",
       "</div>"
      ],
      "text/plain": [
       "                     NTEE_Type(10) NTEE(26)  \\\n",
       "0    Arts, Culture, and Humanities        A   \n",
       "1                        Education        B   \n",
       "2          Environment and Animals        C   \n",
       "3          Environment and Animals        D   \n",
       "4                           Health        E   \n",
       "5                           Health        F   \n",
       "6                           Health        G   \n",
       "7                           Health        H   \n",
       "8                   Human Services        I   \n",
       "9                   Human Services        J   \n",
       "10                  Human Services        K   \n",
       "11                  Human Services        L   \n",
       "12                  Human Services        M   \n",
       "13                  Human Services        N   \n",
       "14                  Human Services        O   \n",
       "15                  Human Services        P   \n",
       "16  International, Foreign Affairs        Q   \n",
       "17        Public, Societal Benefit        R   \n",
       "18        Public, Societal Benefit        S   \n",
       "19        Public, Societal Benefit        T   \n",
       "20        Public, Societal Benefit        U   \n",
       "21        Public, Societal Benefit        V   \n",
       "22        Public, Societal Benefit        W   \n",
       "23                Religion Related        X   \n",
       "24       Mutual/Membership Benefit        Y   \n",
       "25           Unknown, Unclassified        Z   \n",
       "\n",
       "                                        NTEE_Type(26)  \n",
       "0                       Arts, Culture, and Humanities  \n",
       "1                            Educational Institutions  \n",
       "2    Environmental Quality Protection, Beautification  \n",
       "3                                      Animal related  \n",
       "4                     Health-General & Rehabilitative  \n",
       "5                  Mental Health, Crisis Intervention  \n",
       "6             Disease, Disorders, Medical Disciplines  \n",
       "7                                    Medical Research  \n",
       "8                                Crime, Legal Related  \n",
       "9                             Employment, Job Related  \n",
       "10                       Agriculture, Food, Nutrition  \n",
       "11                                   Housing, Shelter  \n",
       "12    Public Safety, Disaster Preparedness and Relief  \n",
       "13             Recreation, Sports, Leisure, Athletics  \n",
       "14                                  Youth Development  \n",
       "15              Human Services-Multipurpose and Other  \n",
       "16  International, Foreign Affairs, and National S...  \n",
       "17              Civil Rights, Social Action, Advocacy  \n",
       "18           Community Improvement, Capacity Building  \n",
       "19         Philanthropy, Voluntarism, and Grantmaking  \n",
       "20         Science and Technology Research Institutes  \n",
       "21                 Social Science Research Institutes  \n",
       "22                            Public, Society Benefit  \n",
       "23                    Religion, Spiritual Development  \n",
       "24     Mutual/Membership Benefit Organizations, Other  \n",
       "25                              Unknown, Unclassified  "
      ]
     },
     "execution_count": 218,
     "metadata": {},
     "output_type": "execute_result"
    }
   ],
   "source": [
    "df3"
   ]
  },
  {
   "cell_type": "code",
   "execution_count": 234,
   "metadata": {
    "collapsed": true
   },
   "outputs": [],
   "source": [
    "df123=df12.merge(df3, how='left', left_on=['NTEE(26)'],right_on=['NTEE(26)'])"
   ]
  },
  {
   "cell_type": "code",
   "execution_count": 235,
   "metadata": {
    "collapsed": true
   },
   "outputs": [],
   "source": [
    "df123.to_csv('IRSCN.csv',encoding='utf-8',index=False)"
   ]
  },
  {
   "cell_type": "code",
   "execution_count": 2,
   "metadata": {
    "collapsed": false
   },
   "outputs": [],
   "source": [
    "df=pd.read_csv('IRSCN.csv')"
   ]
  },
  {
   "cell_type": "code",
   "execution_count": 4,
   "metadata": {
    "collapsed": false
   },
   "outputs": [
    {
     "data": {
      "text/plain": [
       "count    1571022.00000\n",
       "mean           1.60203\n",
       "std            2.23451\n",
       "min            0.00000\n",
       "25%            0.00000\n",
       "50%            0.00000\n",
       "75%            3.00000\n",
       "max            9.00000\n",
       "Name: INCOME_CD, dtype: float64"
      ]
     },
     "execution_count": 4,
     "metadata": {},
     "output_type": "execute_result"
    }
   ],
   "source": [
    "df['INCOME_CD'].describe()"
   ]
  },
  {
   "cell_type": "code",
   "execution_count": 24,
   "metadata": {
    "collapsed": false
   },
   "outputs": [
    {
     "data": {
      "text/plain": [
       "array([ 3,  7,  5, 19, 10,  6,  8,  4, 13, 12, 14,  2,  1, 92, 15,  9, 91,\n",
       "       50, 17, 25, 26, 11, 40,  0, 27, 20, 82, 18, 16, 29, 23, 71, 81], dtype=int64)"
      ]
     },
     "execution_count": 24,
     "metadata": {},
     "output_type": "execute_result"
    }
   ],
   "source": [
    "df['SUBSECTION'].unique()"
   ]
  },
  {
   "cell_type": "code",
   "execution_count": 17,
   "metadata": {
    "collapsed": false
   },
   "outputs": [],
   "source": [
    "df2=df[df['INCOME_CD']>0]"
   ]
  },
  {
   "cell_type": "code",
   "execution_count": 18,
   "metadata": {
    "collapsed": false
   },
   "outputs": [
    {
     "data": {
      "text/plain": [
       "count    629381.000000\n",
       "mean          3.998889\n",
       "std           1.696623\n",
       "min           1.000000\n",
       "25%           3.000000\n",
       "50%           4.000000\n",
       "75%           5.000000\n",
       "max           9.000000\n",
       "Name: INCOME_CD, dtype: float64"
      ]
     },
     "execution_count": 18,
     "metadata": {},
     "output_type": "execute_result"
    }
   ],
   "source": [
    "df2['INCOME_CD'].describe()"
   ]
  },
  {
   "cell_type": "code",
   "execution_count": 19,
   "metadata": {
    "collapsed": true
   },
   "outputs": [],
   "source": [
    "df2.to_csv('IRS_Nonzero.csv',encoding='utf-8',index=False)"
   ]
  },
  {
   "cell_type": "markdown",
   "metadata": {},
   "source": [
    "Top NGOs"
   ]
  },
  {
   "cell_type": "code",
   "execution_count": 237,
   "metadata": {
    "collapsed": true
   },
   "outputs": [],
   "source": [
    "df['EIN']=pd.Series(df['EIN']).astype(str).str.zfill(9)"
   ]
  },
  {
   "cell_type": "code",
   "execution_count": 238,
   "metadata": {
    "collapsed": true
   },
   "outputs": [],
   "source": [
    "df['ZIP']=pd.Series(df['ZIP']).astype(str).str.zfill(5)"
   ]
  },
  {
   "cell_type": "code",
   "execution_count": 239,
   "metadata": {
    "collapsed": false,
    "scrolled": true
   },
   "outputs": [
    {
     "data": {
      "text/html": [
       "<div>\n",
       "<table border=\"1\" class=\"dataframe\">\n",
       "  <thead>\n",
       "    <tr style=\"text-align: right;\">\n",
       "      <th></th>\n",
       "      <th>NTEE_CD</th>\n",
       "      <th>NTEE(26)</th>\n",
       "      <th>NTEE_Type(26)</th>\n",
       "    </tr>\n",
       "  </thead>\n",
       "  <tbody>\n",
       "    <tr>\n",
       "      <th>0</th>\n",
       "      <td>NaN</td>\n",
       "      <td>NaN</td>\n",
       "      <td>NaN</td>\n",
       "    </tr>\n",
       "    <tr>\n",
       "      <th>1</th>\n",
       "      <td>NaN</td>\n",
       "      <td>NaN</td>\n",
       "      <td>NaN</td>\n",
       "    </tr>\n",
       "    <tr>\n",
       "      <th>2</th>\n",
       "      <td>X21</td>\n",
       "      <td>X</td>\n",
       "      <td>Religion, Spiritual Development</td>\n",
       "    </tr>\n",
       "    <tr>\n",
       "      <th>3</th>\n",
       "      <td>X21</td>\n",
       "      <td>X</td>\n",
       "      <td>Religion, Spiritual Development</td>\n",
       "    </tr>\n",
       "    <tr>\n",
       "      <th>4</th>\n",
       "      <td>X20</td>\n",
       "      <td>X</td>\n",
       "      <td>Religion, Spiritual Development</td>\n",
       "    </tr>\n",
       "    <tr>\n",
       "      <th>5</th>\n",
       "      <td>X20</td>\n",
       "      <td>X</td>\n",
       "      <td>Religion, Spiritual Development</td>\n",
       "    </tr>\n",
       "    <tr>\n",
       "      <th>6</th>\n",
       "      <td>X20</td>\n",
       "      <td>X</td>\n",
       "      <td>Religion, Spiritual Development</td>\n",
       "    </tr>\n",
       "    <tr>\n",
       "      <th>7</th>\n",
       "      <td>NaN</td>\n",
       "      <td>NaN</td>\n",
       "      <td>NaN</td>\n",
       "    </tr>\n",
       "    <tr>\n",
       "      <th>8</th>\n",
       "      <td>N60</td>\n",
       "      <td>N</td>\n",
       "      <td>Recreation, Sports, Leisure, Athletics</td>\n",
       "    </tr>\n",
       "    <tr>\n",
       "      <th>9</th>\n",
       "      <td>Z99</td>\n",
       "      <td>Z</td>\n",
       "      <td>Unknown, Unclassified</td>\n",
       "    </tr>\n",
       "    <tr>\n",
       "      <th>10</th>\n",
       "      <td>NaN</td>\n",
       "      <td>NaN</td>\n",
       "      <td>NaN</td>\n",
       "    </tr>\n",
       "    <tr>\n",
       "      <th>11</th>\n",
       "      <td>NaN</td>\n",
       "      <td>NaN</td>\n",
       "      <td>NaN</td>\n",
       "    </tr>\n",
       "    <tr>\n",
       "      <th>12</th>\n",
       "      <td>NaN</td>\n",
       "      <td>NaN</td>\n",
       "      <td>NaN</td>\n",
       "    </tr>\n",
       "    <tr>\n",
       "      <th>13</th>\n",
       "      <td>X21</td>\n",
       "      <td>X</td>\n",
       "      <td>Religion, Spiritual Development</td>\n",
       "    </tr>\n",
       "    <tr>\n",
       "      <th>14</th>\n",
       "      <td>A80</td>\n",
       "      <td>A</td>\n",
       "      <td>Arts, Culture, and Humanities</td>\n",
       "    </tr>\n",
       "    <tr>\n",
       "      <th>15</th>\n",
       "      <td>S19</td>\n",
       "      <td>S</td>\n",
       "      <td>Community Improvement, Capacity Building</td>\n",
       "    </tr>\n",
       "    <tr>\n",
       "      <th>16</th>\n",
       "      <td>N64</td>\n",
       "      <td>N</td>\n",
       "      <td>Recreation, Sports, Leisure, Athletics</td>\n",
       "    </tr>\n",
       "    <tr>\n",
       "      <th>17</th>\n",
       "      <td>NaN</td>\n",
       "      <td>NaN</td>\n",
       "      <td>NaN</td>\n",
       "    </tr>\n",
       "    <tr>\n",
       "      <th>18</th>\n",
       "      <td>NaN</td>\n",
       "      <td>NaN</td>\n",
       "      <td>NaN</td>\n",
       "    </tr>\n",
       "    <tr>\n",
       "      <th>19</th>\n",
       "      <td>NaN</td>\n",
       "      <td>NaN</td>\n",
       "      <td>NaN</td>\n",
       "    </tr>\n",
       "    <tr>\n",
       "      <th>20</th>\n",
       "      <td>NaN</td>\n",
       "      <td>NaN</td>\n",
       "      <td>NaN</td>\n",
       "    </tr>\n",
       "    <tr>\n",
       "      <th>21</th>\n",
       "      <td>NaN</td>\n",
       "      <td>NaN</td>\n",
       "      <td>NaN</td>\n",
       "    </tr>\n",
       "    <tr>\n",
       "      <th>22</th>\n",
       "      <td>NaN</td>\n",
       "      <td>NaN</td>\n",
       "      <td>NaN</td>\n",
       "    </tr>\n",
       "    <tr>\n",
       "      <th>23</th>\n",
       "      <td>NaN</td>\n",
       "      <td>NaN</td>\n",
       "      <td>NaN</td>\n",
       "    </tr>\n",
       "    <tr>\n",
       "      <th>24</th>\n",
       "      <td>NaN</td>\n",
       "      <td>NaN</td>\n",
       "      <td>NaN</td>\n",
       "    </tr>\n",
       "    <tr>\n",
       "      <th>25</th>\n",
       "      <td>NaN</td>\n",
       "      <td>NaN</td>\n",
       "      <td>NaN</td>\n",
       "    </tr>\n",
       "    <tr>\n",
       "      <th>26</th>\n",
       "      <td>NaN</td>\n",
       "      <td>NaN</td>\n",
       "      <td>NaN</td>\n",
       "    </tr>\n",
       "    <tr>\n",
       "      <th>27</th>\n",
       "      <td>NaN</td>\n",
       "      <td>NaN</td>\n",
       "      <td>NaN</td>\n",
       "    </tr>\n",
       "    <tr>\n",
       "      <th>28</th>\n",
       "      <td>NaN</td>\n",
       "      <td>NaN</td>\n",
       "      <td>NaN</td>\n",
       "    </tr>\n",
       "    <tr>\n",
       "      <th>29</th>\n",
       "      <td>NaN</td>\n",
       "      <td>NaN</td>\n",
       "      <td>NaN</td>\n",
       "    </tr>\n",
       "    <tr>\n",
       "      <th>...</th>\n",
       "      <td>...</td>\n",
       "      <td>...</td>\n",
       "      <td>...</td>\n",
       "    </tr>\n",
       "    <tr>\n",
       "      <th>1570992</th>\n",
       "      <td>NaN</td>\n",
       "      <td>NaN</td>\n",
       "      <td>NaN</td>\n",
       "    </tr>\n",
       "    <tr>\n",
       "      <th>1570993</th>\n",
       "      <td>NaN</td>\n",
       "      <td>NaN</td>\n",
       "      <td>NaN</td>\n",
       "    </tr>\n",
       "    <tr>\n",
       "      <th>1570994</th>\n",
       "      <td>NaN</td>\n",
       "      <td>NaN</td>\n",
       "      <td>NaN</td>\n",
       "    </tr>\n",
       "    <tr>\n",
       "      <th>1570995</th>\n",
       "      <td>NaN</td>\n",
       "      <td>NaN</td>\n",
       "      <td>NaN</td>\n",
       "    </tr>\n",
       "    <tr>\n",
       "      <th>1570996</th>\n",
       "      <td>NaN</td>\n",
       "      <td>NaN</td>\n",
       "      <td>NaN</td>\n",
       "    </tr>\n",
       "    <tr>\n",
       "      <th>1570997</th>\n",
       "      <td>NaN</td>\n",
       "      <td>NaN</td>\n",
       "      <td>NaN</td>\n",
       "    </tr>\n",
       "    <tr>\n",
       "      <th>1570998</th>\n",
       "      <td>NaN</td>\n",
       "      <td>NaN</td>\n",
       "      <td>NaN</td>\n",
       "    </tr>\n",
       "    <tr>\n",
       "      <th>1570999</th>\n",
       "      <td>NaN</td>\n",
       "      <td>NaN</td>\n",
       "      <td>NaN</td>\n",
       "    </tr>\n",
       "    <tr>\n",
       "      <th>1571000</th>\n",
       "      <td>T900</td>\n",
       "      <td>T</td>\n",
       "      <td>Philanthropy, Voluntarism, and Grantmaking</td>\n",
       "    </tr>\n",
       "    <tr>\n",
       "      <th>1571001</th>\n",
       "      <td>T11</td>\n",
       "      <td>T</td>\n",
       "      <td>Philanthropy, Voluntarism, and Grantmaking</td>\n",
       "    </tr>\n",
       "    <tr>\n",
       "      <th>1571002</th>\n",
       "      <td>A110</td>\n",
       "      <td>A</td>\n",
       "      <td>Arts, Culture, and Humanities</td>\n",
       "    </tr>\n",
       "    <tr>\n",
       "      <th>1571003</th>\n",
       "      <td>T700</td>\n",
       "      <td>T</td>\n",
       "      <td>Philanthropy, Voluntarism, and Grantmaking</td>\n",
       "    </tr>\n",
       "    <tr>\n",
       "      <th>1571004</th>\n",
       "      <td>T22</td>\n",
       "      <td>T</td>\n",
       "      <td>Philanthropy, Voluntarism, and Grantmaking</td>\n",
       "    </tr>\n",
       "    <tr>\n",
       "      <th>1571005</th>\n",
       "      <td>NaN</td>\n",
       "      <td>NaN</td>\n",
       "      <td>NaN</td>\n",
       "    </tr>\n",
       "    <tr>\n",
       "      <th>1571006</th>\n",
       "      <td>NaN</td>\n",
       "      <td>NaN</td>\n",
       "      <td>NaN</td>\n",
       "    </tr>\n",
       "    <tr>\n",
       "      <th>1571007</th>\n",
       "      <td>NaN</td>\n",
       "      <td>NaN</td>\n",
       "      <td>NaN</td>\n",
       "    </tr>\n",
       "    <tr>\n",
       "      <th>1571008</th>\n",
       "      <td>B82</td>\n",
       "      <td>B</td>\n",
       "      <td>Educational Institutions</td>\n",
       "    </tr>\n",
       "    <tr>\n",
       "      <th>1571009</th>\n",
       "      <td>NaN</td>\n",
       "      <td>NaN</td>\n",
       "      <td>NaN</td>\n",
       "    </tr>\n",
       "    <tr>\n",
       "      <th>1571010</th>\n",
       "      <td>T00Z</td>\n",
       "      <td>T</td>\n",
       "      <td>Philanthropy, Voluntarism, and Grantmaking</td>\n",
       "    </tr>\n",
       "    <tr>\n",
       "      <th>1571011</th>\n",
       "      <td>T90J</td>\n",
       "      <td>T</td>\n",
       "      <td>Philanthropy, Voluntarism, and Grantmaking</td>\n",
       "    </tr>\n",
       "    <tr>\n",
       "      <th>1571012</th>\n",
       "      <td>NaN</td>\n",
       "      <td>NaN</td>\n",
       "      <td>NaN</td>\n",
       "    </tr>\n",
       "    <tr>\n",
       "      <th>1571013</th>\n",
       "      <td>B82Z</td>\n",
       "      <td>B</td>\n",
       "      <td>Educational Institutions</td>\n",
       "    </tr>\n",
       "    <tr>\n",
       "      <th>1571014</th>\n",
       "      <td>T20</td>\n",
       "      <td>T</td>\n",
       "      <td>Philanthropy, Voluntarism, and Grantmaking</td>\n",
       "    </tr>\n",
       "    <tr>\n",
       "      <th>1571015</th>\n",
       "      <td>B82</td>\n",
       "      <td>B</td>\n",
       "      <td>Educational Institutions</td>\n",
       "    </tr>\n",
       "    <tr>\n",
       "      <th>1571016</th>\n",
       "      <td>T99</td>\n",
       "      <td>T</td>\n",
       "      <td>Philanthropy, Voluntarism, and Grantmaking</td>\n",
       "    </tr>\n",
       "    <tr>\n",
       "      <th>1571017</th>\n",
       "      <td>U50</td>\n",
       "      <td>U</td>\n",
       "      <td>Science and Technology Research Institutes</td>\n",
       "    </tr>\n",
       "    <tr>\n",
       "      <th>1571018</th>\n",
       "      <td>T22</td>\n",
       "      <td>T</td>\n",
       "      <td>Philanthropy, Voluntarism, and Grantmaking</td>\n",
       "    </tr>\n",
       "    <tr>\n",
       "      <th>1571019</th>\n",
       "      <td>T90</td>\n",
       "      <td>T</td>\n",
       "      <td>Philanthropy, Voluntarism, and Grantmaking</td>\n",
       "    </tr>\n",
       "    <tr>\n",
       "      <th>1571020</th>\n",
       "      <td>NaN</td>\n",
       "      <td>NaN</td>\n",
       "      <td>NaN</td>\n",
       "    </tr>\n",
       "    <tr>\n",
       "      <th>1571021</th>\n",
       "      <td>B90Z</td>\n",
       "      <td>B</td>\n",
       "      <td>Educational Institutions</td>\n",
       "    </tr>\n",
       "  </tbody>\n",
       "</table>\n",
       "<p>1571022 rows × 3 columns</p>\n",
       "</div>"
      ],
      "text/plain": [
       "        NTEE_CD NTEE(26)                               NTEE_Type(26)\n",
       "0           NaN      NaN                                         NaN\n",
       "1           NaN      NaN                                         NaN\n",
       "2           X21        X             Religion, Spiritual Development\n",
       "3           X21        X             Religion, Spiritual Development\n",
       "4           X20        X             Religion, Spiritual Development\n",
       "5           X20        X             Religion, Spiritual Development\n",
       "6           X20        X             Religion, Spiritual Development\n",
       "7           NaN      NaN                                         NaN\n",
       "8           N60        N      Recreation, Sports, Leisure, Athletics\n",
       "9           Z99        Z                       Unknown, Unclassified\n",
       "10          NaN      NaN                                         NaN\n",
       "11          NaN      NaN                                         NaN\n",
       "12          NaN      NaN                                         NaN\n",
       "13          X21        X             Religion, Spiritual Development\n",
       "14          A80        A               Arts, Culture, and Humanities\n",
       "15          S19        S    Community Improvement, Capacity Building\n",
       "16          N64        N      Recreation, Sports, Leisure, Athletics\n",
       "17          NaN      NaN                                         NaN\n",
       "18          NaN      NaN                                         NaN\n",
       "19          NaN      NaN                                         NaN\n",
       "20          NaN      NaN                                         NaN\n",
       "21          NaN      NaN                                         NaN\n",
       "22          NaN      NaN                                         NaN\n",
       "23          NaN      NaN                                         NaN\n",
       "24          NaN      NaN                                         NaN\n",
       "25          NaN      NaN                                         NaN\n",
       "26          NaN      NaN                                         NaN\n",
       "27          NaN      NaN                                         NaN\n",
       "28          NaN      NaN                                         NaN\n",
       "29          NaN      NaN                                         NaN\n",
       "...         ...      ...                                         ...\n",
       "1570992     NaN      NaN                                         NaN\n",
       "1570993     NaN      NaN                                         NaN\n",
       "1570994     NaN      NaN                                         NaN\n",
       "1570995     NaN      NaN                                         NaN\n",
       "1570996     NaN      NaN                                         NaN\n",
       "1570997     NaN      NaN                                         NaN\n",
       "1570998     NaN      NaN                                         NaN\n",
       "1570999     NaN      NaN                                         NaN\n",
       "1571000    T900        T  Philanthropy, Voluntarism, and Grantmaking\n",
       "1571001     T11        T  Philanthropy, Voluntarism, and Grantmaking\n",
       "1571002    A110        A               Arts, Culture, and Humanities\n",
       "1571003    T700        T  Philanthropy, Voluntarism, and Grantmaking\n",
       "1571004     T22        T  Philanthropy, Voluntarism, and Grantmaking\n",
       "1571005     NaN      NaN                                         NaN\n",
       "1571006     NaN      NaN                                         NaN\n",
       "1571007     NaN      NaN                                         NaN\n",
       "1571008     B82        B                    Educational Institutions\n",
       "1571009     NaN      NaN                                         NaN\n",
       "1571010    T00Z        T  Philanthropy, Voluntarism, and Grantmaking\n",
       "1571011    T90J        T  Philanthropy, Voluntarism, and Grantmaking\n",
       "1571012     NaN      NaN                                         NaN\n",
       "1571013    B82Z        B                    Educational Institutions\n",
       "1571014     T20        T  Philanthropy, Voluntarism, and Grantmaking\n",
       "1571015     B82        B                    Educational Institutions\n",
       "1571016     T99        T  Philanthropy, Voluntarism, and Grantmaking\n",
       "1571017     U50        U  Science and Technology Research Institutes\n",
       "1571018     T22        T  Philanthropy, Voluntarism, and Grantmaking\n",
       "1571019     T90        T  Philanthropy, Voluntarism, and Grantmaking\n",
       "1571020     NaN      NaN                                         NaN\n",
       "1571021    B90Z        B                    Educational Institutions\n",
       "\n",
       "[1571022 rows x 3 columns]"
      ]
     },
     "execution_count": 239,
     "metadata": {},
     "output_type": "execute_result"
    }
   ],
   "source": [
    "df[['NTEE_CD','NTEE(26)','NTEE_Type(26)']]"
   ]
  },
  {
   "cell_type": "code",
   "execution_count": 240,
   "metadata": {
    "collapsed": false
   },
   "outputs": [
    {
     "data": {
      "text/plain": [
       "array([nan, 'X', 'N', 'Z', 'A', 'S', 'P', 'E', 'Y', 'W', 'B', 'O', 'U',\n",
       "       'T', 'F', 'H', 'L', 'D', 'C', 'G', 'Q', 'I', 'J', 'M', 'K', 'R', 'V'], dtype=object)"
      ]
     },
     "execution_count": 240,
     "metadata": {},
     "output_type": "execute_result"
    }
   ],
   "source": [
    "df['NTEE(26)'].unique()"
   ]
  },
  {
   "cell_type": "code",
   "execution_count": 255,
   "metadata": {
    "collapsed": false
   },
   "outputs": [
    {
     "data": {
      "text/plain": [
       "array([0, 1, 3, 2, 8], dtype=int64)"
      ]
     },
     "execution_count": 255,
     "metadata": {},
     "output_type": "execute_result"
    }
   ],
   "source": [
    "df['PF_FILING_REQ_CD'].unique()"
   ]
  },
  {
   "cell_type": "code",
   "execution_count": 257,
   "metadata": {
    "collapsed": false,
    "scrolled": true
   },
   "outputs": [],
   "source": [
    "df[df['PF_FILING_REQ_CD']==1].to_csv('990PF.csv',index=False)"
   ]
  },
  {
   "cell_type": "code",
   "execution_count": 246,
   "metadata": {
    "collapsed": false
   },
   "outputs": [
    {
     "data": {
      "text/plain": [
       "array([nan, 'Religion Related', 'Human Services', 'Unknown, Unclassified',\n",
       "       'Arts, Culture, and Humanities', 'Public, Societal Benefit',\n",
       "       'Health', 'Mutual/Membership Benefit', 'Education',\n",
       "       'Environment and Animals', 'International, Foreign Affairs'], dtype=object)"
      ]
     },
     "execution_count": 246,
     "metadata": {},
     "output_type": "execute_result"
    }
   ],
   "source": [
    "df['NTEE_Type(10)'].unique()"
   ]
  },
  {
   "cell_type": "code",
   "execution_count": 247,
   "metadata": {
    "collapsed": false
   },
   "outputs": [],
   "source": [
    "dff=df[(df['Key']==1) & (df['NTEE(26)'] != 'B') & ((df['INCOME_AMT']>=1000000000) | (df['Overall']>95))]"
   ]
  },
  {
   "cell_type": "code",
   "execution_count": 259,
   "metadata": {
    "collapsed": true
   },
   "outputs": [],
   "source": [
    "dff2=d[(d['Key']==1) & (d['NTEE(26)'] != 'B') & ((d['INCOME_AMT']>=1000000000) | (d['Overall']>95))]"
   ]
  },
  {
   "cell_type": "code",
   "execution_count": 260,
   "metadata": {
    "collapsed": false,
    "scrolled": true
   },
   "outputs": [
    {
     "data": {
      "text/html": [
       "<div>\n",
       "<table border=\"1\" class=\"dataframe\">\n",
       "  <thead>\n",
       "    <tr style=\"text-align: right;\">\n",
       "      <th></th>\n",
       "      <th>EIN</th>\n",
       "      <th>NAME</th>\n",
       "      <th>ICO</th>\n",
       "      <th>STREET</th>\n",
       "      <th>CITY</th>\n",
       "      <th>STATE</th>\n",
       "      <th>ZIP</th>\n",
       "      <th>GROUP</th>\n",
       "      <th>SUBSECTION</th>\n",
       "      <th>AFFILIATION</th>\n",
       "      <th>...</th>\n",
       "      <th>SORT_NAME</th>\n",
       "      <th>ZIP CODE</th>\n",
       "      <th>MSA1</th>\n",
       "      <th>MSA2</th>\n",
       "      <th>MSA3</th>\n",
       "      <th>NTEE(26)</th>\n",
       "      <th>Key</th>\n",
       "      <th>Overall</th>\n",
       "      <th>NTEE_Type(10)</th>\n",
       "      <th>NTEE_Type(26)</th>\n",
       "    </tr>\n",
       "  </thead>\n",
       "  <tbody>\n",
       "    <tr>\n",
       "      <th>24661</th>\n",
       "      <td>043293081</td>\n",
       "      <td>GERALD R JORDAN JR FOUNDATION</td>\n",
       "      <td>% HELLMAN JORDAN MANAGEMENT CO INC</td>\n",
       "      <td>125 HIGH ST STE 801</td>\n",
       "      <td>BOSTON</td>\n",
       "      <td>MA</td>\n",
       "      <td>02110</td>\n",
       "      <td>0</td>\n",
       "      <td>3</td>\n",
       "      <td>3</td>\n",
       "      <td>...</td>\n",
       "      <td>GORDAN GERALD TTEE</td>\n",
       "      <td>2110</td>\n",
       "      <td>Boston</td>\n",
       "      <td>Cambridge</td>\n",
       "      <td>Quincy</td>\n",
       "      <td>A</td>\n",
       "      <td>1</td>\n",
       "      <td>NaN</td>\n",
       "      <td>Arts, Culture, and Humanities</td>\n",
       "      <td>Arts, Culture, and Humanities</td>\n",
       "    </tr>\n",
       "    <tr>\n",
       "      <th>63642</th>\n",
       "      <td>131684331</td>\n",
       "      <td>FORD FOUNDATION</td>\n",
       "      <td>% CHIEF OPERATING OFFICER</td>\n",
       "      <td>320 E 43RD ST</td>\n",
       "      <td>NEW YORK</td>\n",
       "      <td>NY</td>\n",
       "      <td>10017</td>\n",
       "      <td>0</td>\n",
       "      <td>3</td>\n",
       "      <td>3</td>\n",
       "      <td>...</td>\n",
       "      <td>NaN</td>\n",
       "      <td>10017</td>\n",
       "      <td>New York</td>\n",
       "      <td>Northern New Jersey</td>\n",
       "      <td>Long Island</td>\n",
       "      <td>T</td>\n",
       "      <td>1</td>\n",
       "      <td>NaN</td>\n",
       "      <td>Public, Societal Benefit</td>\n",
       "      <td>Philanthropy, Voluntarism, and Grantmaking</td>\n",
       "    </tr>\n",
       "    <tr>\n",
       "      <th>81816</th>\n",
       "      <td>137184401</td>\n",
       "      <td>THE LEONA M &amp; HARRY B HELMSLEY CHARITABLE TRUST</td>\n",
       "      <td>NaN</td>\n",
       "      <td>230 PARK AVE RM 659</td>\n",
       "      <td>NEW YORK</td>\n",
       "      <td>NY</td>\n",
       "      <td>10169</td>\n",
       "      <td>0</td>\n",
       "      <td>3</td>\n",
       "      <td>3</td>\n",
       "      <td>...</td>\n",
       "      <td>NaN</td>\n",
       "      <td>10169</td>\n",
       "      <td>New York</td>\n",
       "      <td>Northern New Jersey</td>\n",
       "      <td>Long Island</td>\n",
       "      <td>T</td>\n",
       "      <td>1</td>\n",
       "      <td>NaN</td>\n",
       "      <td>Public, Societal Benefit</td>\n",
       "      <td>Philanthropy, Voluntarism, and Grantmaking</td>\n",
       "    </tr>\n",
       "    <tr>\n",
       "      <th>160470</th>\n",
       "      <td>263753801</td>\n",
       "      <td>FOUNDATION TO PROMOTE OPEN SOCIETY</td>\n",
       "      <td>% RICARDO CASTRO</td>\n",
       "      <td>224 W 57TH ST</td>\n",
       "      <td>NEW YORK</td>\n",
       "      <td>NY</td>\n",
       "      <td>10019</td>\n",
       "      <td>0</td>\n",
       "      <td>3</td>\n",
       "      <td>3</td>\n",
       "      <td>...</td>\n",
       "      <td>NaN</td>\n",
       "      <td>10019</td>\n",
       "      <td>New York</td>\n",
       "      <td>Northern New Jersey</td>\n",
       "      <td>Long Island</td>\n",
       "      <td>T</td>\n",
       "      <td>1</td>\n",
       "      <td>NaN</td>\n",
       "      <td>Public, Societal Benefit</td>\n",
       "      <td>Philanthropy, Voluntarism, and Grantmaking</td>\n",
       "    </tr>\n",
       "    <tr>\n",
       "      <th>230791</th>\n",
       "      <td>900747216</td>\n",
       "      <td>THE JPB FOUNDATION</td>\n",
       "      <td>NaN</td>\n",
       "      <td>9 W 57TH ST STE 3800</td>\n",
       "      <td>NEW YORK</td>\n",
       "      <td>NY</td>\n",
       "      <td>10019</td>\n",
       "      <td>0</td>\n",
       "      <td>3</td>\n",
       "      <td>3</td>\n",
       "      <td>...</td>\n",
       "      <td>NaN</td>\n",
       "      <td>10019</td>\n",
       "      <td>New York</td>\n",
       "      <td>Northern New Jersey</td>\n",
       "      <td>Long Island</td>\n",
       "      <td>T</td>\n",
       "      <td>1</td>\n",
       "      <td>NaN</td>\n",
       "      <td>Public, Societal Benefit</td>\n",
       "      <td>Philanthropy, Voluntarism, and Grantmaking</td>\n",
       "    </tr>\n",
       "    <tr>\n",
       "      <th>263791</th>\n",
       "      <td>203734688</td>\n",
       "      <td>SHELBY CULLOM DAVIS CHARITABLE FUND INC</td>\n",
       "      <td>% CARTER LEDYARD &amp; MILBURN LLP</td>\n",
       "      <td>501 SILVERSIDE RD</td>\n",
       "      <td>WILMINGTON</td>\n",
       "      <td>DE</td>\n",
       "      <td>19809</td>\n",
       "      <td>0</td>\n",
       "      <td>3</td>\n",
       "      <td>3</td>\n",
       "      <td>...</td>\n",
       "      <td>NaN</td>\n",
       "      <td>19809</td>\n",
       "      <td>Philadelphia</td>\n",
       "      <td>Camden</td>\n",
       "      <td>Wilmington</td>\n",
       "      <td>T</td>\n",
       "      <td>1</td>\n",
       "      <td>NaN</td>\n",
       "      <td>Public, Societal Benefit</td>\n",
       "      <td>Philanthropy, Voluntarism, and Grantmaking</td>\n",
       "    </tr>\n",
       "    <tr>\n",
       "      <th>270331</th>\n",
       "      <td>205434405</td>\n",
       "      <td>MARGARET A CARGILL FOUNDATION</td>\n",
       "      <td>% CHRISTINE MORSE</td>\n",
       "      <td>6889 ROWLAND RD</td>\n",
       "      <td>EDEN PRAIRIE</td>\n",
       "      <td>MN</td>\n",
       "      <td>55344</td>\n",
       "      <td>0</td>\n",
       "      <td>3</td>\n",
       "      <td>3</td>\n",
       "      <td>...</td>\n",
       "      <td>NaN</td>\n",
       "      <td>55344</td>\n",
       "      <td>Minneapolis</td>\n",
       "      <td>St. Paul</td>\n",
       "      <td>Bloomington</td>\n",
       "      <td>T</td>\n",
       "      <td>1</td>\n",
       "      <td>NaN</td>\n",
       "      <td>Public, Societal Benefit</td>\n",
       "      <td>Philanthropy, Voluntarism, and Grantmaking</td>\n",
       "    </tr>\n",
       "    <tr>\n",
       "      <th>306795</th>\n",
       "      <td>237093598</td>\n",
       "      <td>JOHN D &amp; CATHERINE T MACARTHUR FOUNDATION</td>\n",
       "      <td>NaN</td>\n",
       "      <td>140 S DEARBORN ST STE 1200</td>\n",
       "      <td>CHICAGO</td>\n",
       "      <td>IL</td>\n",
       "      <td>60603</td>\n",
       "      <td>0</td>\n",
       "      <td>3</td>\n",
       "      <td>3</td>\n",
       "      <td>...</td>\n",
       "      <td>NaN</td>\n",
       "      <td>60603</td>\n",
       "      <td>Chicago</td>\n",
       "      <td>Naperville</td>\n",
       "      <td>Joliet</td>\n",
       "      <td>T</td>\n",
       "      <td>1</td>\n",
       "      <td>NaN</td>\n",
       "      <td>Public, Societal Benefit</td>\n",
       "      <td>Philanthropy, Voluntarism, and Grantmaking</td>\n",
       "    </tr>\n",
       "    <tr>\n",
       "      <th>793102</th>\n",
       "      <td>621322826</td>\n",
       "      <td>JOHN TEMPLETON FOUNDATION</td>\n",
       "      <td>% STEVE LEPKOWSKI</td>\n",
       "      <td>300 CONSHOHOCKEN STATE RD</td>\n",
       "      <td>WEST CONSHOHOCKEN</td>\n",
       "      <td>PA</td>\n",
       "      <td>19428</td>\n",
       "      <td>0</td>\n",
       "      <td>3</td>\n",
       "      <td>3</td>\n",
       "      <td>...</td>\n",
       "      <td>NaN</td>\n",
       "      <td>19428</td>\n",
       "      <td>Philadelphia</td>\n",
       "      <td>Camden</td>\n",
       "      <td>Wilmington</td>\n",
       "      <td>T</td>\n",
       "      <td>1</td>\n",
       "      <td>NaN</td>\n",
       "      <td>Public, Societal Benefit</td>\n",
       "      <td>Philanthropy, Voluntarism, and Grantmaking</td>\n",
       "    </tr>\n",
       "    <tr>\n",
       "      <th>1201613</th>\n",
       "      <td>562618866</td>\n",
       "      <td>BILL &amp; MELINDA GATES FOUNDATION</td>\n",
       "      <td>% WILLIAM H GATES III TTEE</td>\n",
       "      <td>PO BOX 23350</td>\n",
       "      <td>SEATTLE</td>\n",
       "      <td>WA</td>\n",
       "      <td>98102</td>\n",
       "      <td>0</td>\n",
       "      <td>3</td>\n",
       "      <td>3</td>\n",
       "      <td>...</td>\n",
       "      <td>NaN</td>\n",
       "      <td>98102</td>\n",
       "      <td>Seattle</td>\n",
       "      <td>Tacoma</td>\n",
       "      <td>Bellevue</td>\n",
       "      <td>T</td>\n",
       "      <td>1</td>\n",
       "      <td>NaN</td>\n",
       "      <td>Public, Societal Benefit</td>\n",
       "      <td>Philanthropy, Voluntarism, and Grantmaking</td>\n",
       "    </tr>\n",
       "    <tr>\n",
       "      <th>1332769</th>\n",
       "      <td>741403105</td>\n",
       "      <td>MOODY FOUNDATION</td>\n",
       "      <td>NaN</td>\n",
       "      <td>2302 POSTOFFICE STREET</td>\n",
       "      <td>GALVESTON</td>\n",
       "      <td>TX</td>\n",
       "      <td>77550</td>\n",
       "      <td>0</td>\n",
       "      <td>3</td>\n",
       "      <td>3</td>\n",
       "      <td>...</td>\n",
       "      <td>NaN</td>\n",
       "      <td>77550</td>\n",
       "      <td>Houston</td>\n",
       "      <td>Sugar Land</td>\n",
       "      <td>Baytown</td>\n",
       "      <td>T</td>\n",
       "      <td>1</td>\n",
       "      <td>NaN</td>\n",
       "      <td>Public, Societal Benefit</td>\n",
       "      <td>Philanthropy, Voluntarism, and Grantmaking</td>\n",
       "    </tr>\n",
       "    <tr>\n",
       "      <th>1476189</th>\n",
       "      <td>910793881</td>\n",
       "      <td>CASEY FAMILY PROGRAMS</td>\n",
       "      <td>% KIM GRAYSON</td>\n",
       "      <td>2001 8TH AVE STE 2700</td>\n",
       "      <td>SEATTLE</td>\n",
       "      <td>WA</td>\n",
       "      <td>98121</td>\n",
       "      <td>0</td>\n",
       "      <td>3</td>\n",
       "      <td>3</td>\n",
       "      <td>...</td>\n",
       "      <td>NaN</td>\n",
       "      <td>98121</td>\n",
       "      <td>Seattle</td>\n",
       "      <td>Tacoma</td>\n",
       "      <td>Bellevue</td>\n",
       "      <td>T</td>\n",
       "      <td>1</td>\n",
       "      <td>NaN</td>\n",
       "      <td>Public, Societal Benefit</td>\n",
       "      <td>Philanthropy, Voluntarism, and Grantmaking</td>\n",
       "    </tr>\n",
       "    <tr>\n",
       "      <th>1485748</th>\n",
       "      <td>911663695</td>\n",
       "      <td>BILL &amp; MELINDA GATES FOUNDATION TRUST</td>\n",
       "      <td>% WILLIAM H GATES III</td>\n",
       "      <td>PO BOX 23350</td>\n",
       "      <td>SEATTLE</td>\n",
       "      <td>WA</td>\n",
       "      <td>98102</td>\n",
       "      <td>0</td>\n",
       "      <td>3</td>\n",
       "      <td>3</td>\n",
       "      <td>...</td>\n",
       "      <td>NaN</td>\n",
       "      <td>98102</td>\n",
       "      <td>Seattle</td>\n",
       "      <td>Tacoma</td>\n",
       "      <td>Bellevue</td>\n",
       "      <td>T</td>\n",
       "      <td>1</td>\n",
       "      <td>NaN</td>\n",
       "      <td>Public, Societal Benefit</td>\n",
       "      <td>Philanthropy, Voluntarism, and Grantmaking</td>\n",
       "    </tr>\n",
       "    <tr>\n",
       "      <th>1518271</th>\n",
       "      <td>942278431</td>\n",
       "      <td>DAVID AND LUCILE PACKARD FOUNDATION</td>\n",
       "      <td>NaN</td>\n",
       "      <td>343 SECOND STREET</td>\n",
       "      <td>LOS ALTOS</td>\n",
       "      <td>CA</td>\n",
       "      <td>94022</td>\n",
       "      <td>0</td>\n",
       "      <td>3</td>\n",
       "      <td>3</td>\n",
       "      <td>...</td>\n",
       "      <td>NaN</td>\n",
       "      <td>94022</td>\n",
       "      <td>San Jose</td>\n",
       "      <td>Sunnyvale</td>\n",
       "      <td>Santa Clara</td>\n",
       "      <td>T</td>\n",
       "      <td>1</td>\n",
       "      <td>NaN</td>\n",
       "      <td>Public, Societal Benefit</td>\n",
       "      <td>Philanthropy, Voluntarism, and Grantmaking</td>\n",
       "    </tr>\n",
       "  </tbody>\n",
       "</table>\n",
       "<p>14 rows × 37 columns</p>\n",
       "</div>"
      ],
      "text/plain": [
       "               EIN                                             NAME  \\\n",
       "24661    043293081                    GERALD R JORDAN JR FOUNDATION   \n",
       "63642    131684331                                  FORD FOUNDATION   \n",
       "81816    137184401  THE LEONA M & HARRY B HELMSLEY CHARITABLE TRUST   \n",
       "160470   263753801               FOUNDATION TO PROMOTE OPEN SOCIETY   \n",
       "230791   900747216                               THE JPB FOUNDATION   \n",
       "263791   203734688          SHELBY CULLOM DAVIS CHARITABLE FUND INC   \n",
       "270331   205434405                    MARGARET A CARGILL FOUNDATION   \n",
       "306795   237093598        JOHN D & CATHERINE T MACARTHUR FOUNDATION   \n",
       "793102   621322826                        JOHN TEMPLETON FOUNDATION   \n",
       "1201613  562618866                  BILL & MELINDA GATES FOUNDATION   \n",
       "1332769  741403105                                 MOODY FOUNDATION   \n",
       "1476189  910793881                            CASEY FAMILY PROGRAMS   \n",
       "1485748  911663695            BILL & MELINDA GATES FOUNDATION TRUST   \n",
       "1518271  942278431              DAVID AND LUCILE PACKARD FOUNDATION   \n",
       "\n",
       "                                        ICO                      STREET  \\\n",
       "24661    % HELLMAN JORDAN MANAGEMENT CO INC         125 HIGH ST STE 801   \n",
       "63642             % CHIEF OPERATING OFFICER               320 E 43RD ST   \n",
       "81816                                   NaN         230 PARK AVE RM 659   \n",
       "160470                     % RICARDO CASTRO               224 W 57TH ST   \n",
       "230791                                  NaN        9 W 57TH ST STE 3800   \n",
       "263791       % CARTER LEDYARD & MILBURN LLP           501 SILVERSIDE RD   \n",
       "270331                    % CHRISTINE MORSE             6889 ROWLAND RD   \n",
       "306795                                  NaN  140 S DEARBORN ST STE 1200   \n",
       "793102                    % STEVE LEPKOWSKI   300 CONSHOHOCKEN STATE RD   \n",
       "1201613          % WILLIAM H GATES III TTEE                PO BOX 23350   \n",
       "1332769                                 NaN      2302 POSTOFFICE STREET   \n",
       "1476189                       % KIM GRAYSON       2001 8TH AVE STE 2700   \n",
       "1485748               % WILLIAM H GATES III                PO BOX 23350   \n",
       "1518271                                 NaN           343 SECOND STREET   \n",
       "\n",
       "                      CITY STATE    ZIP  GROUP  SUBSECTION  AFFILIATION  \\\n",
       "24661               BOSTON    MA  02110      0           3            3   \n",
       "63642             NEW YORK    NY  10017      0           3            3   \n",
       "81816             NEW YORK    NY  10169      0           3            3   \n",
       "160470            NEW YORK    NY  10019      0           3            3   \n",
       "230791            NEW YORK    NY  10019      0           3            3   \n",
       "263791          WILMINGTON    DE  19809      0           3            3   \n",
       "270331        EDEN PRAIRIE    MN  55344      0           3            3   \n",
       "306795             CHICAGO    IL  60603      0           3            3   \n",
       "793102   WEST CONSHOHOCKEN    PA  19428      0           3            3   \n",
       "1201613            SEATTLE    WA  98102      0           3            3   \n",
       "1332769          GALVESTON    TX  77550      0           3            3   \n",
       "1476189            SEATTLE    WA  98121      0           3            3   \n",
       "1485748            SEATTLE    WA  98102      0           3            3   \n",
       "1518271          LOS ALTOS    CA  94022      0           3            3   \n",
       "\n",
       "                            ...                               SORT_NAME  \\\n",
       "24661                       ...                      GORDAN GERALD TTEE   \n",
       "63642                       ...                                     NaN   \n",
       "81816                       ...                                     NaN   \n",
       "160470                      ...                                     NaN   \n",
       "230791                      ...                                     NaN   \n",
       "263791                      ...                                     NaN   \n",
       "270331                      ...                                     NaN   \n",
       "306795                      ...                                     NaN   \n",
       "793102                      ...                                     NaN   \n",
       "1201613                     ...                                     NaN   \n",
       "1332769                     ...                                     NaN   \n",
       "1476189                     ...                                     NaN   \n",
       "1485748                     ...                                     NaN   \n",
       "1518271                     ...                                     NaN   \n",
       "\n",
       "         ZIP CODE          MSA1                 MSA2         MSA3  NTEE(26)  \\\n",
       "24661        2110        Boston            Cambridge       Quincy         A   \n",
       "63642       10017      New York  Northern New Jersey  Long Island         T   \n",
       "81816       10169      New York  Northern New Jersey  Long Island         T   \n",
       "160470      10019      New York  Northern New Jersey  Long Island         T   \n",
       "230791      10019      New York  Northern New Jersey  Long Island         T   \n",
       "263791      19809  Philadelphia               Camden   Wilmington         T   \n",
       "270331      55344   Minneapolis             St. Paul  Bloomington         T   \n",
       "306795      60603       Chicago           Naperville       Joliet         T   \n",
       "793102      19428  Philadelphia               Camden   Wilmington         T   \n",
       "1201613     98102       Seattle               Tacoma     Bellevue         T   \n",
       "1332769     77550       Houston           Sugar Land      Baytown         T   \n",
       "1476189     98121       Seattle               Tacoma     Bellevue         T   \n",
       "1485748     98102       Seattle               Tacoma     Bellevue         T   \n",
       "1518271     94022      San Jose            Sunnyvale  Santa Clara         T   \n",
       "\n",
       "         Key  Overall                  NTEE_Type(10)  \\\n",
       "24661      1      NaN  Arts, Culture, and Humanities   \n",
       "63642      1      NaN       Public, Societal Benefit   \n",
       "81816      1      NaN       Public, Societal Benefit   \n",
       "160470     1      NaN       Public, Societal Benefit   \n",
       "230791     1      NaN       Public, Societal Benefit   \n",
       "263791     1      NaN       Public, Societal Benefit   \n",
       "270331     1      NaN       Public, Societal Benefit   \n",
       "306795     1      NaN       Public, Societal Benefit   \n",
       "793102     1      NaN       Public, Societal Benefit   \n",
       "1201613    1      NaN       Public, Societal Benefit   \n",
       "1332769    1      NaN       Public, Societal Benefit   \n",
       "1476189    1      NaN       Public, Societal Benefit   \n",
       "1485748    1      NaN       Public, Societal Benefit   \n",
       "1518271    1      NaN       Public, Societal Benefit   \n",
       "\n",
       "                                      NTEE_Type(26)  \n",
       "24661                 Arts, Culture, and Humanities  \n",
       "63642    Philanthropy, Voluntarism, and Grantmaking  \n",
       "81816    Philanthropy, Voluntarism, and Grantmaking  \n",
       "160470   Philanthropy, Voluntarism, and Grantmaking  \n",
       "230791   Philanthropy, Voluntarism, and Grantmaking  \n",
       "263791   Philanthropy, Voluntarism, and Grantmaking  \n",
       "270331   Philanthropy, Voluntarism, and Grantmaking  \n",
       "306795   Philanthropy, Voluntarism, and Grantmaking  \n",
       "793102   Philanthropy, Voluntarism, and Grantmaking  \n",
       "1201613  Philanthropy, Voluntarism, and Grantmaking  \n",
       "1332769  Philanthropy, Voluntarism, and Grantmaking  \n",
       "1476189  Philanthropy, Voluntarism, and Grantmaking  \n",
       "1485748  Philanthropy, Voluntarism, and Grantmaking  \n",
       "1518271  Philanthropy, Voluntarism, and Grantmaking  \n",
       "\n",
       "[14 rows x 37 columns]"
      ]
     },
     "execution_count": 260,
     "metadata": {},
     "output_type": "execute_result"
    }
   ],
   "source": [
    "dff2"
   ]
  },
  {
   "cell_type": "code",
   "execution_count": 155,
   "metadata": {
    "collapsed": false
   },
   "outputs": [
    {
     "data": {
      "text/plain": [
       "['EIN',\n",
       " 'NAME',\n",
       " 'ICO',\n",
       " 'STREET',\n",
       " 'CITY',\n",
       " 'STATE',\n",
       " 'ZIP',\n",
       " 'GROUP',\n",
       " 'SUBSECTION',\n",
       " 'AFFILIATION',\n",
       " 'CLASSIFICATION',\n",
       " 'RULING',\n",
       " 'DEDUCTIBILITY',\n",
       " 'FOUNDATION',\n",
       " 'ACTIVITY',\n",
       " 'ORGANIZATION',\n",
       " 'STATUS',\n",
       " 'TAX_PERIOD',\n",
       " 'ASSET_CD',\n",
       " 'INCOME_CD',\n",
       " 'FILING_REQ_CD',\n",
       " 'PF_FILING_REQ_CD',\n",
       " 'ACCT_PD',\n",
       " 'ASSET_AMT',\n",
       " 'INCOME_AMT',\n",
       " 'REVENUE_AMT',\n",
       " 'NTEE_CD',\n",
       " 'SORT_NAME',\n",
       " 'ZIP CODE',\n",
       " 'MSA1',\n",
       " 'MSA2',\n",
       " 'MSA3',\n",
       " 'NTEE(26)',\n",
       " 'Key',\n",
       " 'Overall',\n",
       " 'Financial',\n",
       " 'Transparency',\n",
       " 'Tel',\n",
       " 'Website',\n",
       " 'Missions',\n",
       " 'NTEE_Type(10)',\n",
       " 'NTEE_Type(26)']"
      ]
     },
     "execution_count": 155,
     "metadata": {},
     "output_type": "execute_result"
    }
   ],
   "source": [
    "list(dff.columns.values)"
   ]
  },
  {
   "cell_type": "code",
   "execution_count": 212,
   "metadata": {
    "collapsed": false
   },
   "outputs": [],
   "source": [
    "dff[['NAME','EIN','ZIP','MSA1','NTEE_CD','NTEE_Type(26)','NTEE_Type(10)','ASSET_AMT','INCOME_AMT','RULING','Overall']].to_excel('TopNGOs1.xlsx',index=False)"
   ]
  },
  {
   "cell_type": "markdown",
   "metadata": {},
   "source": [
    "Visualization"
   ]
  },
  {
   "cell_type": "code",
   "execution_count": 170,
   "metadata": {
    "collapsed": true
   },
   "outputs": [],
   "source": [
    "%matplotlib inline"
   ]
  },
  {
   "cell_type": "code",
   "execution_count": 172,
   "metadata": {
    "collapsed": false
   },
   "outputs": [],
   "source": [
    "dfv=df[(df['NTEE(26)'] != '0')&(df['NTEE(26)'] != 'Z')&(df['Key']==1)]"
   ]
  },
  {
   "cell_type": "code",
   "execution_count": 204,
   "metadata": {
    "collapsed": true
   },
   "outputs": [],
   "source": [
    "dfv=df[df['Key']==1]"
   ]
  },
  {
   "cell_type": "code",
   "execution_count": 209,
   "metadata": {
    "collapsed": false
   },
   "outputs": [
    {
     "data": {
      "text/plain": [
       "EIN                 366168\n",
       "NAME                366168\n",
       "ICO                 250018\n",
       "STREET              366168\n",
       "CITY                366168\n",
       "STATE               366168\n",
       "ZIP                 366168\n",
       "GROUP               366168\n",
       "SUBSECTION          366168\n",
       "AFFILIATION         366168\n",
       "CLASSIFICATION      366168\n",
       "RULING              366168\n",
       "DEDUCTIBILITY       366168\n",
       "FOUNDATION          366168\n",
       "ACTIVITY            366168\n",
       "ORGANIZATION        366168\n",
       "STATUS              366168\n",
       "TAX_PERIOD          291932\n",
       "ASSET_CD            366168\n",
       "INCOME_CD           366168\n",
       "FILING_REQ_CD       366168\n",
       "PF_FILING_REQ_CD    366168\n",
       "ACCT_PD             366168\n",
       "ASSET_AMT           288408\n",
       "INCOME_AMT          288408\n",
       "REVENUE_AMT         253184\n",
       "NTEE_CD             234809\n",
       "SORT_NAME            83885\n",
       "ZIP CODE            366168\n",
       "MSA1                366168\n",
       "MSA2                366168\n",
       "MSA3                366168\n",
       "NTEE(26)            366168\n",
       "Key                 366168\n",
       "Overall               3319\n",
       "Financial             3319\n",
       "Transparency          3319\n",
       "Tel                   3312\n",
       "Website               3303\n",
       "Missions              3319\n",
       "NTEE_Type(10)       366168\n",
       "NTEE_Type(26)       234800\n",
       "dtype: int64"
      ]
     },
     "execution_count": 209,
     "metadata": {},
     "output_type": "execute_result"
    }
   ],
   "source": [
    "dfv.count()"
   ]
  },
  {
   "cell_type": "code",
   "execution_count": 205,
   "metadata": {
    "collapsed": false,
    "scrolled": true
   },
   "outputs": [
    {
     "name": "stderr",
     "output_type": "stream",
     "text": [
      "C:\\Users\\yuxiao\\AppData\\Local\\Continuum\\Anaconda3\\lib\\site-packages\\pandas\\core\\generic.py:2862: SettingWithCopyWarning: \n",
      "A value is trying to be set on a copy of a slice from a DataFrame\n",
      "\n",
      "See the caveats in the documentation: http://pandas.pydata.org/pandas-docs/stable/indexing.html#indexing-view-versus-copy\n",
      "  self._update_inplace(new_data)\n"
     ]
    }
   ],
   "source": [
    "dfv['NTEE_Type(10)'].fillna('Unknown, Unclassified',inplace=True)"
   ]
  },
  {
   "cell_type": "code",
   "execution_count": 208,
   "metadata": {
    "collapsed": false
   },
   "outputs": [
    {
     "data": {
      "text/plain": [
       "<matplotlib.axes._subplots.AxesSubplot at 0x539f71d0>"
      ]
     },
     "execution_count": 208,
     "metadata": {},
     "output_type": "execute_result"
    },
    {
     "data": {
      "image/png": "[encoded data removed]",
      "text/plain": [
       "<matplotlib.figure.Figure at 0x17a0a3320>"
      ]
     },
     "metadata": {},
     "output_type": "display_data"
    }
   ],
   "source": [
    "colors = 'rgbkymcw'\n",
    "ngo_by_key= dfv.groupby(['NTEE_Type(10)','MSA1'])\n",
    "ngo_by_key_count = ngo_by_key['EIN'].count().unstack('NTEE_Type(10)')\n",
    "ngo_by_key_count.plot.bar(figsize=(16,8),color=colors)"
   ]
  },
  {
   "cell_type": "code",
   "execution_count": 184,
   "metadata": {
    "collapsed": false
   },
   "outputs": [
    {
     "data": {
      "text/plain": [
       "<matplotlib.axes._subplots.AxesSubplot at 0x1ec93048>"
      ]
     },
     "execution_count": 184,
     "metadata": {},
     "output_type": "execute_result"
    },
    {
     "data": {
      "image/png": "[encoded data removed]",
      "text/plain": [
       "<matplotlib.figure.Figure at 0x1e063cf8>"
      ]
     },
     "metadata": {},
     "output_type": "display_data"
    }
   ],
   "source": [
    "ngo_by_key= dfv.groupby(['NTEE_Type(26)','MSA1'])\n",
    "ngo_by_key_count = ngo_by_key['EIN'].count().unstack('NTEE_Type(26)')\n",
    "ngo_by_key_count.plot.bar(figsize=(32,16),color=colors)"
   ]
  },
  {
   "cell_type": "code",
   "execution_count": 182,
   "metadata": {
    "collapsed": false
   },
   "outputs": [
    {
     "data": {
      "text/plain": [
       "<matplotlib.axes._subplots.AxesSubplot at 0x1e471be0>"
      ]
     },
     "execution_count": 182,
     "metadata": {},
     "output_type": "execute_result"
    },
    {
     "data": {
      "image/png": "[encoded data removed]",
      "text/plain": [
       "<matplotlib.figure.Figure at 0x1d787e80>"
      ]
     },
     "metadata": {},
     "output_type": "display_data"
    }
   ],
   "source": [
    "ngo_by_key= dfv.groupby(['NTEE_Type(10)','MSA1'])\n",
    "ngo_by_key_count = ngo_by_key['EIN'].count().unstack('MSA1')\n",
    "ngo_by_key_count.plot.bar(figsize=(32,16),color=colors)"
   ]
  },
  {
   "cell_type": "code",
   "execution_count": null,
   "metadata": {
    "collapsed": true
   },
   "outputs": [],
   "source": []
  }
 ],
 "metadata": {
  "kernelspec": {
   "display_name": "Python 3",
   "language": "python",
   "name": "python3"
  },
  "language_info": {
   "codemirror_mode": {
    "name": "ipython",
    "version": 3
   },
   "file_extension": ".py",
   "mimetype": "text/x-python",
   "name": "python",
   "nbconvert_exporter": "python",
   "pygments_lexer": "ipython3",
   "version": "3.5.1"
  }
 },
 "nbformat": 4,
 "nbformat_minor": 0
}
